{
 "cells": [
  {
   "cell_type": "markdown",
   "metadata": {},
   "source": [
    "<center>\n",
    "    <img src=\"https://s3-api.us-geo.objectstorage.softlayer.net/cf-courses-data/CognitiveClass/Logos/organization_logo/organization_logo.png\" width=\"1000\" alt=\"cognitiveclass.ai logo\"  />\n",
    "</center>\n",
    "\n",
    "# Assignment: Exploratory Data Analysis with SQL\n",
    "\n",
    "Estimated time needed: 60 minutes\n",
    "\n",
    "# Introduction\n",
    "\n",
    "Using this R notebook you will perform exploratory data analysis tasks using SQL queries with the RODBC R package. You will not be graded here, but you will be asked to present some of these results in your final assignment, where you will be graded on the accuracy of your results as well as the content of your SQL queries.\n"
   ]
  },
  {
   "cell_type": "markdown",
   "metadata": {},
   "source": [
    "### Establish your Db2 connection\n",
    "\n",
    "Load the 'RODBC' library, and use the 'odbcConnect( )' function as you did in the previous lab to establish the connection to your Db2 assets.\\\n",
    "Provided you successfully loaded your data into the tables in that lab, you are now ready to start running SQL queries using the RODBC library as you did in Course 3.\n"
   ]
  },
  {
   "cell_type": "code",
   "execution_count": 1,
   "metadata": {},
   "outputs": [
    {
     "data": {
      "text/html": [
       "'DRIVER={IBM DB2 ODBC Driver};DATABASE=bludb;HOSTNAME=55fbc997-9266-4331-afd3-888b05e734c0.bs2io90l08kqb1od8lcg.databases.appdomain.cloud;PORT=31929;PROTOCOL=TCPIP;UID=gmx74666;PWD=0L7nXAM2OKo5TGZs;SECURITY=ssl'"
      ],
      "text/latex": [
       "'DRIVER=\\{IBM DB2 ODBC Driver\\};DATABASE=bludb;HOSTNAME=55fbc997-9266-4331-afd3-888b05e734c0.bs2io90l08kqb1od8lcg.databases.appdomain.cloud;PORT=31929;PROTOCOL=TCPIP;UID=gmx74666;PWD=0L7nXAM2OKo5TGZs;SECURITY=ssl'"
      ],
      "text/markdown": [
       "'DRIVER={IBM DB2 ODBC Driver};DATABASE=bludb;HOSTNAME=55fbc997-9266-4331-afd3-888b05e734c0.bs2io90l08kqb1od8lcg.databases.appdomain.cloud;PORT=31929;PROTOCOL=TCPIP;UID=gmx74666;PWD=0L7nXAM2OKo5TGZs;SECURITY=ssl'"
      ],
      "text/plain": [
       "[1] \"DRIVER={IBM DB2 ODBC Driver};DATABASE=bludb;HOSTNAME=55fbc997-9266-4331-afd3-888b05e734c0.bs2io90l08kqb1od8lcg.databases.appdomain.cloud;PORT=31929;PROTOCOL=TCPIP;UID=gmx74666;PWD=0L7nXAM2OKo5TGZs;SECURITY=ssl\""
      ]
     },
     "metadata": {},
     "output_type": "display_data"
    }
   ],
   "source": [
    "# provide your solution here\n",
    "library(RODBC)\n",
    "\n",
    "#Create a database connection\n",
    "dsn_driver <- \"{IBM DB2 ODBC Driver}\"\n",
    "dsn_database <- \"bludb\"            \n",
    "dsn_hostname <- \"55fbc997-9266-4331-afd3-888b05e734c0.bs2io90l08kqb1od8lcg.databases.appdomain.cloud\"  \n",
    "dsn_port <- \"31929\"               \n",
    "dsn_protocol <- \"TCPIP\"           \n",
    "dsn_uid <- \"gmx74666\"        \n",
    "dsn_pwd <- \"0L7nXAM2OKo5TGZs\"\n",
    "dsn_security <- \"ssl\"\n",
    "\n",
    "#Create a connection string and connect to the database\n",
    "conn_path <- paste(\"DRIVER=\",dsn_driver,\n",
    "                  \";DATABASE=\",dsn_database,\n",
    "                  \";HOSTNAME=\",dsn_hostname,\n",
    "                  \";PORT=\",dsn_port,\n",
    "                  \";PROTOCOL=\",dsn_protocol,\n",
    "                  \";UID=\",dsn_uid,\n",
    "                  \";PWD=\",dsn_pwd,\n",
    "                  \";SECURITY=\",dsn_security,        \n",
    "                    sep=\"\")\n",
    "\n",
    "conn_path\n",
    "conn <- odbcDriverConnect(conn_path)\n"
   ]
  },
  {
   "cell_type": "code",
   "execution_count": 2,
   "metadata": {},
   "outputs": [
    {
     "data": {
      "text/html": [
       "<style>\n",
       ".dl-inline {width: auto; margin:0; padding: 0}\n",
       ".dl-inline>dt, .dl-inline>dd {float: none; width: auto; display: inline-block}\n",
       ".dl-inline>dt::after {content: \":\\0020\"; padding-right: .5ex}\n",
       ".dl-inline>dt:not(:first-of-type) {padding-left: .5ex}\n",
       "</style><dl class=dl-inline><dt>DBMS_Name</dt><dd>'DB2/LINUXX8664'</dd><dt>DBMS_Ver</dt><dd>'11.05.0600'</dd><dt>Driver_ODBC_Ver</dt><dd>'03.51'</dd><dt>Data_Source_Name</dt><dd>''</dd><dt>Driver_Name</dt><dd>'libdb2.a'</dd><dt>Driver_Ver</dt><dd>'11.05.0600'</dd><dt>ODBC_Ver</dt><dd>'03.52'</dd><dt>Server_Name</dt><dd>'DB2'</dd></dl>\n"
      ],
      "text/latex": [
       "\\begin{description*}\n",
       "\\item[DBMS\\textbackslash{}\\_Name] 'DB2/LINUXX8664'\n",
       "\\item[DBMS\\textbackslash{}\\_Ver] '11.05.0600'\n",
       "\\item[Driver\\textbackslash{}\\_ODBC\\textbackslash{}\\_Ver] '03.51'\n",
       "\\item[Data\\textbackslash{}\\_Source\\textbackslash{}\\_Name] ''\n",
       "\\item[Driver\\textbackslash{}\\_Name] 'libdb2.a'\n",
       "\\item[Driver\\textbackslash{}\\_Ver] '11.05.0600'\n",
       "\\item[ODBC\\textbackslash{}\\_Ver] '03.52'\n",
       "\\item[Server\\textbackslash{}\\_Name] 'DB2'\n",
       "\\end{description*}\n"
      ],
      "text/markdown": [
       "DBMS_Name\n",
       ":   'DB2/LINUXX8664'DBMS_Ver\n",
       ":   '11.05.0600'Driver_ODBC_Ver\n",
       ":   '03.51'Data_Source_Name\n",
       ":   ''Driver_Name\n",
       ":   'libdb2.a'Driver_Ver\n",
       ":   '11.05.0600'ODBC_Ver\n",
       ":   '03.52'Server_Name\n",
       ":   'DB2'\n",
       "\n"
      ],
      "text/plain": [
       "       DBMS_Name         DBMS_Ver  Driver_ODBC_Ver Data_Source_Name \n",
       "\"DB2/LINUXX8664\"     \"11.05.0600\"          \"03.51\"               \"\" \n",
       "     Driver_Name       Driver_Ver         ODBC_Ver      Server_Name \n",
       "      \"libdb2.a\"     \"11.05.0600\"          \"03.52\"            \"DB2\" "
      ]
     },
     "metadata": {},
     "output_type": "display_data"
    }
   ],
   "source": [
    "#sql.info <- sqlTypeInfo(conn) #database information about the data types selected\n",
    "conn.info <- odbcGetInfo(conn) #driver information\n",
    "\n",
    "sql.info <- sqlTypeInfo(conn)\n",
    "conn.info <- odbcGetInfo(conn)\n",
    "conn.info"
   ]
  },
  {
   "cell_type": "markdown",
   "metadata": {},
   "source": [
    "## Task 1 - Record Count\n",
    "\n",
    "#### Determine how many records are in the seoul_bike_sharing dataset.\n"
   ]
  },
  {
   "cell_type": "markdown",
   "metadata": {},
   "source": [
    "### Solution 1\n"
   ]
  },
  {
   "cell_type": "code",
   "execution_count": 3,
   "metadata": {
    "scrolled": true
   },
   "outputs": [
    {
     "data": {
      "text/html": [
       "<table>\n",
       "<caption>A data.frame: 1 × 1</caption>\n",
       "<thead>\n",
       "\t<tr><th></th><th scope=col>COUNT</th></tr>\n",
       "\t<tr><th></th><th scope=col>&lt;int&gt;</th></tr>\n",
       "</thead>\n",
       "<tbody>\n",
       "\t<tr><th scope=row>1</th><td>8465</td></tr>\n",
       "</tbody>\n",
       "</table>\n"
      ],
      "text/latex": [
       "A data.frame: 1 × 1\n",
       "\\begin{tabular}{r|l}\n",
       "  & COUNT\\\\\n",
       "  & <int>\\\\\n",
       "\\hline\n",
       "\t1 & 8465\\\\\n",
       "\\end{tabular}\n"
      ],
      "text/markdown": [
       "\n",
       "A data.frame: 1 × 1\n",
       "\n",
       "| <!--/--> | COUNT &lt;int&gt; |\n",
       "|---|---|\n",
       "| 1 | 8465 |\n",
       "\n"
      ],
      "text/plain": [
       "  COUNT\n",
       "1 8465 "
      ]
     },
     "metadata": {},
     "output_type": "display_data"
    }
   ],
   "source": [
    "# provide your solution here\n",
    "# provide your solution here\n",
    "query <- paste(\"SELECT COUNT(*) AS COUNT FROM SEOUL_BIKE_SHARING\")\n",
    "seoul_bike_count <- sqlQuery(conn, query)\n",
    "seoul_bike_count"
   ]
  },
  {
   "cell_type": "markdown",
   "metadata": {},
   "source": [
    "## Task 2 - Operational Hours\n",
    "\n",
    "#### Determine how many hours had non-zero rented bike count.\n"
   ]
  },
  {
   "cell_type": "markdown",
   "metadata": {},
   "source": [
    "### Solution 2\n"
   ]
  },
  {
   "cell_type": "code",
   "execution_count": 4,
   "metadata": {
    "scrolled": true
   },
   "outputs": [
    {
     "data": {
      "text/html": [
       "<table>\n",
       "<caption>A data.frame: 1 × 1</caption>\n",
       "<thead>\n",
       "\t<tr><th></th><th scope=col>1</th></tr>\n",
       "\t<tr><th></th><th scope=col>&lt;int&gt;</th></tr>\n",
       "</thead>\n",
       "<tbody>\n",
       "\t<tr><th scope=row>1</th><td>97407</td></tr>\n",
       "</tbody>\n",
       "</table>\n"
      ],
      "text/latex": [
       "A data.frame: 1 × 1\n",
       "\\begin{tabular}{r|l}\n",
       "  & 1\\\\\n",
       "  & <int>\\\\\n",
       "\\hline\n",
       "\t1 & 97407\\\\\n",
       "\\end{tabular}\n"
      ],
      "text/markdown": [
       "\n",
       "A data.frame: 1 × 1\n",
       "\n",
       "| <!--/--> | 1 &lt;int&gt; |\n",
       "|---|---|\n",
       "| 1 | 97407 |\n",
       "\n"
      ],
      "text/plain": [
       "  1    \n",
       "1 97407"
      ]
     },
     "metadata": {},
     "output_type": "display_data"
    }
   ],
   "source": [
    "# provide your solution here\n",
    "query2 <- paste(\"SELECT SUM(HOUR) FROM SEOUL_BIKE_SHARING WHERE RENTED_BIKE_COUNT<>0\")\n",
    "total_hrs <- sqlQuery(conn, query2)\n",
    "total_hrs"
   ]
  },
  {
   "cell_type": "markdown",
   "metadata": {},
   "source": [
    "## Task 3 - Weather Outlook\n",
    "\n",
    "#### Query the the weather forecast for Seoul over the next 3 hours.\n",
    "\n",
    "Recall that the records in the CITIES_WEATHER_FORECAST dataset are 3 hours apart, so we just need the first record from the query.\n"
   ]
  },
  {
   "cell_type": "markdown",
   "metadata": {},
   "source": [
    "### Solution 3\n"
   ]
  },
  {
   "cell_type": "code",
   "execution_count": 5,
   "metadata": {},
   "outputs": [
    {
     "data": {
      "text/html": [
       "<table>\n",
       "<caption>A data.frame: 1 × 14</caption>\n",
       "<thead>\n",
       "\t<tr><th></th><th scope=col>DATE</th><th scope=col>RENTED_BIKE_COUNT</th><th scope=col>HOUR</th><th scope=col>TEMPERATURE</th><th scope=col>HUMIDITY</th><th scope=col>WIND_SPEED</th><th scope=col>VISIBILITY</th><th scope=col>DEW_POINT_TEMPERATURE</th><th scope=col>SOLAR_RADIATION</th><th scope=col>RAINFALL</th><th scope=col>SNOWFALL</th><th scope=col>SEASONS</th><th scope=col>HOLIDAY</th><th scope=col>FUNCTIONING_DAY</th></tr>\n",
       "\t<tr><th></th><th scope=col>&lt;fct&gt;</th><th scope=col>&lt;int&gt;</th><th scope=col>&lt;int&gt;</th><th scope=col>&lt;dbl&gt;</th><th scope=col>&lt;int&gt;</th><th scope=col>&lt;dbl&gt;</th><th scope=col>&lt;int&gt;</th><th scope=col>&lt;dbl&gt;</th><th scope=col>&lt;dbl&gt;</th><th scope=col>&lt;dbl&gt;</th><th scope=col>&lt;dbl&gt;</th><th scope=col>&lt;fct&gt;</th><th scope=col>&lt;fct&gt;</th><th scope=col>&lt;fct&gt;</th></tr>\n",
       "</thead>\n",
       "<tbody>\n",
       "\t<tr><th scope=row>1</th><td>01/12/2017</td><td>254</td><td>0</td><td>-5.2</td><td>37</td><td>2.2</td><td>2000</td><td>-17.6</td><td>0</td><td>0</td><td>0</td><td>Winter</td><td>No Holiday</td><td>Yes</td></tr>\n",
       "</tbody>\n",
       "</table>\n"
      ],
      "text/latex": [
       "A data.frame: 1 × 14\n",
       "\\begin{tabular}{r|llllllllllllll}\n",
       "  & DATE & RENTED\\_BIKE\\_COUNT & HOUR & TEMPERATURE & HUMIDITY & WIND\\_SPEED & VISIBILITY & DEW\\_POINT\\_TEMPERATURE & SOLAR\\_RADIATION & RAINFALL & SNOWFALL & SEASONS & HOLIDAY & FUNCTIONING\\_DAY\\\\\n",
       "  & <fct> & <int> & <int> & <dbl> & <int> & <dbl> & <int> & <dbl> & <dbl> & <dbl> & <dbl> & <fct> & <fct> & <fct>\\\\\n",
       "\\hline\n",
       "\t1 & 01/12/2017 & 254 & 0 & -5.2 & 37 & 2.2 & 2000 & -17.6 & 0 & 0 & 0 & Winter & No Holiday & Yes\\\\\n",
       "\\end{tabular}\n"
      ],
      "text/markdown": [
       "\n",
       "A data.frame: 1 × 14\n",
       "\n",
       "| <!--/--> | DATE &lt;fct&gt; | RENTED_BIKE_COUNT &lt;int&gt; | HOUR &lt;int&gt; | TEMPERATURE &lt;dbl&gt; | HUMIDITY &lt;int&gt; | WIND_SPEED &lt;dbl&gt; | VISIBILITY &lt;int&gt; | DEW_POINT_TEMPERATURE &lt;dbl&gt; | SOLAR_RADIATION &lt;dbl&gt; | RAINFALL &lt;dbl&gt; | SNOWFALL &lt;dbl&gt; | SEASONS &lt;fct&gt; | HOLIDAY &lt;fct&gt; | FUNCTIONING_DAY &lt;fct&gt; |\n",
       "|---|---|---|---|---|---|---|---|---|---|---|---|---|---|---|\n",
       "| 1 | 01/12/2017 | 254 | 0 | -5.2 | 37 | 2.2 | 2000 | -17.6 | 0 | 0 | 0 | Winter | No Holiday | Yes |\n",
       "\n"
      ],
      "text/plain": [
       "  DATE       RENTED_BIKE_COUNT HOUR TEMPERATURE HUMIDITY WIND_SPEED VISIBILITY\n",
       "1 01/12/2017 254               0    -5.2        37       2.2        2000      \n",
       "  DEW_POINT_TEMPERATURE SOLAR_RADIATION RAINFALL SNOWFALL SEASONS HOLIDAY   \n",
       "1 -17.6                 0               0        0        Winter  No Holiday\n",
       "  FUNCTIONING_DAY\n",
       "1 Yes            "
      ]
     },
     "metadata": {},
     "output_type": "display_data"
    }
   ],
   "source": [
    "# provide your solution here\n",
    "query3 <- paste(\"SELECT * FROM SEOUL_BIKE_SHARING LIMIT(1)\")\n",
    "next_3hr <- sqlQuery(conn, query3)\n",
    "next_3hr"
   ]
  },
  {
   "cell_type": "markdown",
   "metadata": {},
   "source": [
    "## Task 4 - Seasons\n",
    "\n",
    "#### Find which seasons are included in the seoul bike sharing dataset.\n"
   ]
  },
  {
   "cell_type": "markdown",
   "metadata": {},
   "source": [
    "### Solution 4\n"
   ]
  },
  {
   "cell_type": "code",
   "execution_count": 6,
   "metadata": {},
   "outputs": [
    {
     "data": {
      "text/html": [
       "<table>\n",
       "<caption>A data.frame: 4 × 1</caption>\n",
       "<thead>\n",
       "\t<tr><th></th><th scope=col>SEASONS</th></tr>\n",
       "\t<tr><th></th><th scope=col>&lt;fct&gt;</th></tr>\n",
       "</thead>\n",
       "<tbody>\n",
       "\t<tr><th scope=row>1</th><td>Autumn</td></tr>\n",
       "\t<tr><th scope=row>2</th><td>Spring</td></tr>\n",
       "\t<tr><th scope=row>3</th><td>Summer</td></tr>\n",
       "\t<tr><th scope=row>4</th><td>Winter</td></tr>\n",
       "</tbody>\n",
       "</table>\n"
      ],
      "text/latex": [
       "A data.frame: 4 × 1\n",
       "\\begin{tabular}{r|l}\n",
       "  & SEASONS\\\\\n",
       "  & <fct>\\\\\n",
       "\\hline\n",
       "\t1 & Autumn\\\\\n",
       "\t2 & Spring\\\\\n",
       "\t3 & Summer\\\\\n",
       "\t4 & Winter\\\\\n",
       "\\end{tabular}\n"
      ],
      "text/markdown": [
       "\n",
       "A data.frame: 4 × 1\n",
       "\n",
       "| <!--/--> | SEASONS &lt;fct&gt; |\n",
       "|---|---|\n",
       "| 1 | Autumn |\n",
       "| 2 | Spring |\n",
       "| 3 | Summer |\n",
       "| 4 | Winter |\n",
       "\n"
      ],
      "text/plain": [
       "  SEASONS\n",
       "1 Autumn \n",
       "2 Spring \n",
       "3 Summer \n",
       "4 Winter "
      ]
     },
     "metadata": {},
     "output_type": "display_data"
    }
   ],
   "source": [
    "# provide your solution here\n",
    "query4 <- paste(\"SELECT DISTINCT SEASONS FROM SEOUL_BIKE_SHARING\")\n",
    "distinct_seasons <- sqlQuery(conn, query4)\n",
    "distinct_seasons"
   ]
  },
  {
   "cell_type": "markdown",
   "metadata": {},
   "source": [
    "## Task 5 - Date Range\n",
    "\n",
    "#### Find the first and last dates in the Seoul Bike Sharing dataset.\n"
   ]
  },
  {
   "cell_type": "markdown",
   "metadata": {},
   "source": [
    "### Solution 5\n"
   ]
  },
  {
   "cell_type": "code",
   "execution_count": 7,
   "metadata": {},
   "outputs": [
    {
     "name": "stdout",
     "output_type": "stream",
     "text": [
      "[1] \"SELECT MIN(DATE) AS LAST_DT, MAX(DATE) AS FIRST_DT FROM SEOUL_BIKE_SHARING\"\n"
     ]
    },
    {
     "data": {
      "text/html": [
       "<table>\n",
       "<caption>A data.frame: 1 × 2</caption>\n",
       "<thead>\n",
       "\t<tr><th></th><th scope=col>LAST_DT</th><th scope=col>FIRST_DT</th></tr>\n",
       "\t<tr><th></th><th scope=col>&lt;fct&gt;</th><th scope=col>&lt;fct&gt;</th></tr>\n",
       "</thead>\n",
       "<tbody>\n",
       "\t<tr><th scope=row>1</th><td>01/01/2018</td><td>31/12/2017</td></tr>\n",
       "</tbody>\n",
       "</table>\n"
      ],
      "text/latex": [
       "A data.frame: 1 × 2\n",
       "\\begin{tabular}{r|ll}\n",
       "  & LAST\\_DT & FIRST\\_DT\\\\\n",
       "  & <fct> & <fct>\\\\\n",
       "\\hline\n",
       "\t1 & 01/01/2018 & 31/12/2017\\\\\n",
       "\\end{tabular}\n"
      ],
      "text/markdown": [
       "\n",
       "A data.frame: 1 × 2\n",
       "\n",
       "| <!--/--> | LAST_DT &lt;fct&gt; | FIRST_DT &lt;fct&gt; |\n",
       "|---|---|---|\n",
       "| 1 | 01/01/2018 | 31/12/2017 |\n",
       "\n"
      ],
      "text/plain": [
       "  LAST_DT    FIRST_DT  \n",
       "1 01/01/2018 31/12/2017"
      ]
     },
     "metadata": {},
     "output_type": "display_data"
    }
   ],
   "source": [
    "# provide your solution here\n",
    "query5 <- print(\"SELECT MIN(DATE) AS LAST_DT, MAX(DATE) AS FIRST_DT FROM SEOUL_BIKE_SHARING\")\n",
    "first_lastDT <- sqlQuery(conn, query5)\n",
    "first_lastDT"
   ]
  },
  {
   "cell_type": "markdown",
   "metadata": {},
   "source": [
    "## Task 6 - Subquery - 'all-time high'\n",
    "\n",
    "#### determine which date and hour had the most bike rentals.\n"
   ]
  },
  {
   "cell_type": "markdown",
   "metadata": {},
   "source": [
    "### Solution 6\n"
   ]
  },
  {
   "cell_type": "code",
   "execution_count": 36,
   "metadata": {},
   "outputs": [
    {
     "data": {
      "text/html": [
       "<table>\n",
       "<caption>A data.frame: 1 × 4</caption>\n",
       "<thead>\n",
       "\t<tr><th></th><th scope=col>DATE</th><th scope=col>SEASONS</th><th scope=col>HOUR</th><th scope=col>RENTED_BIKE_COUNT</th></tr>\n",
       "\t<tr><th></th><th scope=col>&lt;fct&gt;</th><th scope=col>&lt;fct&gt;</th><th scope=col>&lt;int&gt;</th><th scope=col>&lt;int&gt;</th></tr>\n",
       "</thead>\n",
       "<tbody>\n",
       "\t<tr><th scope=row>1</th><td>19/06/2018</td><td>Summer</td><td>18</td><td>3556</td></tr>\n",
       "</tbody>\n",
       "</table>\n"
      ],
      "text/latex": [
       "A data.frame: 1 × 4\n",
       "\\begin{tabular}{r|llll}\n",
       "  & DATE & SEASONS & HOUR & RENTED\\_BIKE\\_COUNT\\\\\n",
       "  & <fct> & <fct> & <int> & <int>\\\\\n",
       "\\hline\n",
       "\t1 & 19/06/2018 & Summer & 18 & 3556\\\\\n",
       "\\end{tabular}\n"
      ],
      "text/markdown": [
       "\n",
       "A data.frame: 1 × 4\n",
       "\n",
       "| <!--/--> | DATE &lt;fct&gt; | SEASONS &lt;fct&gt; | HOUR &lt;int&gt; | RENTED_BIKE_COUNT &lt;int&gt; |\n",
       "|---|---|---|---|---|\n",
       "| 1 | 19/06/2018 | Summer | 18 | 3556 |\n",
       "\n"
      ],
      "text/plain": [
       "  DATE       SEASONS HOUR RENTED_BIKE_COUNT\n",
       "1 19/06/2018 Summer  18   3556             "
      ]
     },
     "metadata": {},
     "output_type": "display_data"
    }
   ],
   "source": [
    "# provide your solution here\n",
    "query6 <- paste(\"SELECT DATE, SEASONS, HOUR, RENTED_BIKE_COUNT FROM SEOUL_BIKE_SHARING \n",
    "                WHERE RENTED_BIKE_COUNT = (SELECT MAX(RENTED_BIKE_COUNT) FROM SEOUL_BIKE_SHARING)\")\n",
    "most_bike_rentals <- sqlQuery(conn, query6)\n",
    "most_bike_rentals"
   ]
  },
  {
   "cell_type": "markdown",
   "metadata": {},
   "source": [
    "## Task 7 - Hourly popularity and temperature by season\n",
    "\n",
    "#### Determine the average hourly temperature and the average number of bike rentals per hour over each season. List the top ten results by average bike count.\n"
   ]
  },
  {
   "cell_type": "markdown",
   "metadata": {},
   "source": [
    "### Solution 7\n"
   ]
  },
  {
   "cell_type": "code",
   "execution_count": 9,
   "metadata": {},
   "outputs": [
    {
     "data": {
      "text/html": [
       "<table>\n",
       "<caption>A data.frame: 10 × 4</caption>\n",
       "<thead>\n",
       "\t<tr><th></th><th scope=col>HOUR</th><th scope=col>SEASONS</th><th scope=col>AVG_TEMP</th><th scope=col>AVG_NO_BIKES</th></tr>\n",
       "\t<tr><th></th><th scope=col>&lt;int&gt;</th><th scope=col>&lt;fct&gt;</th><th scope=col>&lt;dbl&gt;</th><th scope=col>&lt;int&gt;</th></tr>\n",
       "</thead>\n",
       "<tbody>\n",
       "\t<tr><th scope=row>1</th><td>18</td><td>Summer</td><td>29.38696</td><td>2135</td></tr>\n",
       "\t<tr><th scope=row>2</th><td>18</td><td>Autumn</td><td>16.03086</td><td>1983</td></tr>\n",
       "\t<tr><th scope=row>3</th><td>19</td><td>Summer</td><td>28.27283</td><td>1889</td></tr>\n",
       "\t<tr><th scope=row>4</th><td>20</td><td>Summer</td><td>27.06630</td><td>1801</td></tr>\n",
       "\t<tr><th scope=row>5</th><td>21</td><td>Summer</td><td>26.27826</td><td>1754</td></tr>\n",
       "\t<tr><th scope=row>6</th><td>18</td><td>Spring</td><td>15.97222</td><td>1689</td></tr>\n",
       "\t<tr><th scope=row>7</th><td>22</td><td>Summer</td><td>25.69891</td><td>1567</td></tr>\n",
       "\t<tr><th scope=row>8</th><td>17</td><td>Autumn</td><td>17.27778</td><td>1562</td></tr>\n",
       "\t<tr><th scope=row>9</th><td>17</td><td>Summer</td><td>30.07500</td><td>1526</td></tr>\n",
       "\t<tr><th scope=row>10</th><td>19</td><td>Autumn</td><td>15.06049</td><td>1515</td></tr>\n",
       "</tbody>\n",
       "</table>\n"
      ],
      "text/latex": [
       "A data.frame: 10 × 4\n",
       "\\begin{tabular}{r|llll}\n",
       "  & HOUR & SEASONS & AVG\\_TEMP & AVG\\_NO\\_BIKES\\\\\n",
       "  & <int> & <fct> & <dbl> & <int>\\\\\n",
       "\\hline\n",
       "\t1 & 18 & Summer & 29.38696 & 2135\\\\\n",
       "\t2 & 18 & Autumn & 16.03086 & 1983\\\\\n",
       "\t3 & 19 & Summer & 28.27283 & 1889\\\\\n",
       "\t4 & 20 & Summer & 27.06630 & 1801\\\\\n",
       "\t5 & 21 & Summer & 26.27826 & 1754\\\\\n",
       "\t6 & 18 & Spring & 15.97222 & 1689\\\\\n",
       "\t7 & 22 & Summer & 25.69891 & 1567\\\\\n",
       "\t8 & 17 & Autumn & 17.27778 & 1562\\\\\n",
       "\t9 & 17 & Summer & 30.07500 & 1526\\\\\n",
       "\t10 & 19 & Autumn & 15.06049 & 1515\\\\\n",
       "\\end{tabular}\n"
      ],
      "text/markdown": [
       "\n",
       "A data.frame: 10 × 4\n",
       "\n",
       "| <!--/--> | HOUR &lt;int&gt; | SEASONS &lt;fct&gt; | AVG_TEMP &lt;dbl&gt; | AVG_NO_BIKES &lt;int&gt; |\n",
       "|---|---|---|---|---|\n",
       "| 1 | 18 | Summer | 29.38696 | 2135 |\n",
       "| 2 | 18 | Autumn | 16.03086 | 1983 |\n",
       "| 3 | 19 | Summer | 28.27283 | 1889 |\n",
       "| 4 | 20 | Summer | 27.06630 | 1801 |\n",
       "| 5 | 21 | Summer | 26.27826 | 1754 |\n",
       "| 6 | 18 | Spring | 15.97222 | 1689 |\n",
       "| 7 | 22 | Summer | 25.69891 | 1567 |\n",
       "| 8 | 17 | Autumn | 17.27778 | 1562 |\n",
       "| 9 | 17 | Summer | 30.07500 | 1526 |\n",
       "| 10 | 19 | Autumn | 15.06049 | 1515 |\n",
       "\n"
      ],
      "text/plain": [
       "   HOUR SEASONS AVG_TEMP AVG_NO_BIKES\n",
       "1  18   Summer  29.38696 2135        \n",
       "2  18   Autumn  16.03086 1983        \n",
       "3  19   Summer  28.27283 1889        \n",
       "4  20   Summer  27.06630 1801        \n",
       "5  21   Summer  26.27826 1754        \n",
       "6  18   Spring  15.97222 1689        \n",
       "7  22   Summer  25.69891 1567        \n",
       "8  17   Autumn  17.27778 1562        \n",
       "9  17   Summer  30.07500 1526        \n",
       "10 19   Autumn  15.06049 1515        "
      ]
     },
     "metadata": {},
     "output_type": "display_data"
    }
   ],
   "source": [
    "# provide your solution here\n",
    "query7 <- paste(\"SELECT HOUR, SEASONS, AVG(TEMPERATURE) AS AVG_TEMP, AVG(RENTED_BIKE_COUNT) AS AVG_NO_BIKES FROM SEOUL_BIKE_SHARING \n",
    "                GROUP BY HOUR, SEASONS\n",
    "                ORDER BY AVG_NO_BIKES DESC                \n",
    "                LIMIT 10\")\n",
    "popularity_by_season <- sqlQuery(conn, query7)\n",
    "popularity_by_season"
   ]
  },
  {
   "cell_type": "markdown",
   "metadata": {},
   "source": [
    "## Task 8 - Rental Seasonality\n",
    "\n",
    "#### Find the average hourly bike count during each season.\n",
    "\n",
    "Also include the minimum, maximum, and standard deviation of the hourly bike count for each season.\n"
   ]
  },
  {
   "cell_type": "markdown",
   "metadata": {},
   "source": [
    "### Solution 8\n"
   ]
  },
  {
   "cell_type": "code",
   "execution_count": 12,
   "metadata": {},
   "outputs": [
    {
     "data": {
      "text/html": [
       "<table>\n",
       "<caption>A data.frame: 4 × 5</caption>\n",
       "<thead>\n",
       "\t<tr><th></th><th scope=col>SEASONS</th><th scope=col>AVG_COUNT</th><th scope=col>MIN_COUNT</th><th scope=col>MAX_COUNT</th><th scope=col>STN_DEV</th></tr>\n",
       "\t<tr><th></th><th scope=col>&lt;fct&gt;</th><th scope=col>&lt;int&gt;</th><th scope=col>&lt;int&gt;</th><th scope=col>&lt;int&gt;</th><th scope=col>&lt;dbl&gt;</th></tr>\n",
       "</thead>\n",
       "<tbody>\n",
       "\t<tr><th scope=row>1</th><td>Summer</td><td>1034</td><td>9</td><td>3556</td><td>690.0884</td></tr>\n",
       "\t<tr><th scope=row>2</th><td>Autumn</td><td> 924</td><td>2</td><td>3298</td><td>617.3885</td></tr>\n",
       "\t<tr><th scope=row>3</th><td>Spring</td><td> 746</td><td>2</td><td>3251</td><td>618.5247</td></tr>\n",
       "\t<tr><th scope=row>4</th><td>Winter</td><td> 225</td><td>3</td><td> 937</td><td>150.3374</td></tr>\n",
       "</tbody>\n",
       "</table>\n"
      ],
      "text/latex": [
       "A data.frame: 4 × 5\n",
       "\\begin{tabular}{r|lllll}\n",
       "  & SEASONS & AVG\\_COUNT & MIN\\_COUNT & MAX\\_COUNT & STN\\_DEV\\\\\n",
       "  & <fct> & <int> & <int> & <int> & <dbl>\\\\\n",
       "\\hline\n",
       "\t1 & Summer & 1034 & 9 & 3556 & 690.0884\\\\\n",
       "\t2 & Autumn &  924 & 2 & 3298 & 617.3885\\\\\n",
       "\t3 & Spring &  746 & 2 & 3251 & 618.5247\\\\\n",
       "\t4 & Winter &  225 & 3 &  937 & 150.3374\\\\\n",
       "\\end{tabular}\n"
      ],
      "text/markdown": [
       "\n",
       "A data.frame: 4 × 5\n",
       "\n",
       "| <!--/--> | SEASONS &lt;fct&gt; | AVG_COUNT &lt;int&gt; | MIN_COUNT &lt;int&gt; | MAX_COUNT &lt;int&gt; | STN_DEV &lt;dbl&gt; |\n",
       "|---|---|---|---|---|---|\n",
       "| 1 | Summer | 1034 | 9 | 3556 | 690.0884 |\n",
       "| 2 | Autumn |  924 | 2 | 3298 | 617.3885 |\n",
       "| 3 | Spring |  746 | 2 | 3251 | 618.5247 |\n",
       "| 4 | Winter |  225 | 3 |  937 | 150.3374 |\n",
       "\n"
      ],
      "text/plain": [
       "  SEASONS AVG_COUNT MIN_COUNT MAX_COUNT STN_DEV \n",
       "1 Summer  1034      9         3556      690.0884\n",
       "2 Autumn   924      2         3298      617.3885\n",
       "3 Spring   746      2         3251      618.5247\n",
       "4 Winter   225      3          937      150.3374"
      ]
     },
     "metadata": {},
     "output_type": "display_data"
    }
   ],
   "source": [
    "# provide your solution here\n",
    "query8 <- paste(\"SELECT SEASONS, AVG(RENTED_BIKE_COUNT) AS AVG_COUNT, MIN(RENTED_BIKE_COUNT) AS MIN_COUNT, MAX(RENTED_BIKE_COUNT) AS MAX_COUNT,\n",
    "                STDDEV(RENTED_BIKE_COUNT) AS STN_DEV FROM SEOUL_BIKE_SHARING\n",
    "                GROUP BY SEASONS\n",
    "                ORDER BY AVG_COUNT DESC\")\n",
    "\n",
    "seasonal_hourly_bike_count <- sqlQuery(conn, query8)\n",
    "seasonal_hourly_bike_count"
   ]
  },
  {
   "cell_type": "markdown",
   "metadata": {},
   "source": [
    "Let's explore a bit and see what might be the most significant contributing factors in terms of the provided data.\n"
   ]
  },
  {
   "cell_type": "markdown",
   "metadata": {},
   "source": [
    "## Task 9 - Weather Seasonality\n",
    "\n",
    "#### Consider the weather over each season. On average, what were the TEMPERATURE, HUMIDITY, WIND_SPEED, VISIBILITY, DEW_POINT_TEMPERATURE, SOLAR_RADIATION, RAINFALL, and SNOWFALL per season?\n",
    "\n",
    "Include the average bike count as well , and rank the results by average bike count so you can see if it is correlated with the weather at all.\n"
   ]
  },
  {
   "cell_type": "markdown",
   "metadata": {},
   "source": [
    "### Solution 9\n"
   ]
  },
  {
   "cell_type": "code",
   "execution_count": 13,
   "metadata": {},
   "outputs": [
    {
     "data": {
      "text/html": [
       "<table>\n",
       "<caption>A data.frame: 4 × 9</caption>\n",
       "<thead>\n",
       "\t<tr><th></th><th scope=col>SEASONS</th><th scope=col>TEMP</th><th scope=col>HUMIDITY</th><th scope=col>WIND_SPEED</th><th scope=col>VISIBILITY</th><th scope=col>DEWPOINT_TEMP</th><th scope=col>SOLAR_RADIATION</th><th scope=col>RAINFALL</th><th scope=col>BIKE_COUNT</th></tr>\n",
       "\t<tr><th></th><th scope=col>&lt;fct&gt;</th><th scope=col>&lt;dbl&gt;</th><th scope=col>&lt;int&gt;</th><th scope=col>&lt;dbl&gt;</th><th scope=col>&lt;int&gt;</th><th scope=col>&lt;dbl&gt;</th><th scope=col>&lt;dbl&gt;</th><th scope=col>&lt;dbl&gt;</th><th scope=col>&lt;int&gt;</th></tr>\n",
       "</thead>\n",
       "<tbody>\n",
       "\t<tr><th scope=row>1</th><td>Summer</td><td>26.587274</td><td>64</td><td>1.609420</td><td>1501</td><td> 18.750136</td><td>0.7612545</td><td>0.25348732</td><td>1034</td></tr>\n",
       "\t<tr><th scope=row>2</th><td>Autumn</td><td>13.821167</td><td>59</td><td>1.492101</td><td>1558</td><td>  5.150594</td><td>0.5227827</td><td>0.11765617</td><td> 924</td></tr>\n",
       "\t<tr><th scope=row>3</th><td>Spring</td><td>13.021389</td><td>58</td><td>1.857778</td><td>1240</td><td>  4.091389</td><td>0.6803009</td><td>0.18694444</td><td> 746</td></tr>\n",
       "\t<tr><th scope=row>4</th><td>Winter</td><td>-2.540463</td><td>49</td><td>1.922685</td><td>1445</td><td>-12.416667</td><td>0.2981806</td><td>0.03282407</td><td> 225</td></tr>\n",
       "</tbody>\n",
       "</table>\n"
      ],
      "text/latex": [
       "A data.frame: 4 × 9\n",
       "\\begin{tabular}{r|lllllllll}\n",
       "  & SEASONS & TEMP & HUMIDITY & WIND\\_SPEED & VISIBILITY & DEWPOINT\\_TEMP & SOLAR\\_RADIATION & RAINFALL & BIKE\\_COUNT\\\\\n",
       "  & <fct> & <dbl> & <int> & <dbl> & <int> & <dbl> & <dbl> & <dbl> & <int>\\\\\n",
       "\\hline\n",
       "\t1 & Summer & 26.587274 & 64 & 1.609420 & 1501 &  18.750136 & 0.7612545 & 0.25348732 & 1034\\\\\n",
       "\t2 & Autumn & 13.821167 & 59 & 1.492101 & 1558 &   5.150594 & 0.5227827 & 0.11765617 &  924\\\\\n",
       "\t3 & Spring & 13.021389 & 58 & 1.857778 & 1240 &   4.091389 & 0.6803009 & 0.18694444 &  746\\\\\n",
       "\t4 & Winter & -2.540463 & 49 & 1.922685 & 1445 & -12.416667 & 0.2981806 & 0.03282407 &  225\\\\\n",
       "\\end{tabular}\n"
      ],
      "text/markdown": [
       "\n",
       "A data.frame: 4 × 9\n",
       "\n",
       "| <!--/--> | SEASONS &lt;fct&gt; | TEMP &lt;dbl&gt; | HUMIDITY &lt;int&gt; | WIND_SPEED &lt;dbl&gt; | VISIBILITY &lt;int&gt; | DEWPOINT_TEMP &lt;dbl&gt; | SOLAR_RADIATION &lt;dbl&gt; | RAINFALL &lt;dbl&gt; | BIKE_COUNT &lt;int&gt; |\n",
       "|---|---|---|---|---|---|---|---|---|---|\n",
       "| 1 | Summer | 26.587274 | 64 | 1.609420 | 1501 |  18.750136 | 0.7612545 | 0.25348732 | 1034 |\n",
       "| 2 | Autumn | 13.821167 | 59 | 1.492101 | 1558 |   5.150594 | 0.5227827 | 0.11765617 |  924 |\n",
       "| 3 | Spring | 13.021389 | 58 | 1.857778 | 1240 |   4.091389 | 0.6803009 | 0.18694444 |  746 |\n",
       "| 4 | Winter | -2.540463 | 49 | 1.922685 | 1445 | -12.416667 | 0.2981806 | 0.03282407 |  225 |\n",
       "\n"
      ],
      "text/plain": [
       "  SEASONS TEMP      HUMIDITY WIND_SPEED VISIBILITY DEWPOINT_TEMP\n",
       "1 Summer  26.587274 64       1.609420   1501        18.750136   \n",
       "2 Autumn  13.821167 59       1.492101   1558         5.150594   \n",
       "3 Spring  13.021389 58       1.857778   1240         4.091389   \n",
       "4 Winter  -2.540463 49       1.922685   1445       -12.416667   \n",
       "  SOLAR_RADIATION RAINFALL   BIKE_COUNT\n",
       "1 0.7612545       0.25348732 1034      \n",
       "2 0.5227827       0.11765617  924      \n",
       "3 0.6803009       0.18694444  746      \n",
       "4 0.2981806       0.03282407  225      "
      ]
     },
     "metadata": {},
     "output_type": "display_data"
    }
   ],
   "source": [
    "# provide your solution here\n",
    "query9 <- paste(\"SELECT SEASONS, AVG(TEMPERATURE) AS TEMP, AVG(HUMIDITY) AS HUMIDITY, AVG(WIND_SPEED) AS WIND_SPEED, AVG(VISIBILITY) AS VISIBILITY,\n",
    "                AVG(DEW_POINT_TEMPERATURE) AS DEWPOINT_TEMP, AVG(SOLAR_RADIATION) AS SOLAR_RADIATION, AVG(RAINFALL) AS RAINFALL, AVG(RENTED_BIKE_COUNT) AS BIKE_COUNT FROM SEOUL_BIKE_SHARING\n",
    "                GROUP BY SEASONS\n",
    "                ORDER BY AVG(RENTED_BIKE_COUNT) DESC\")\n",
    "weather_seasonality <- sqlQuery(conn, query9)\n",
    "weather_seasonality"
   ]
  },
  {
   "cell_type": "markdown",
   "metadata": {},
   "source": [
    "## Task 10 - Total Bike Count and City Info for Seoul\n",
    "\n",
    "#### Use an implicit join across the WORLD_CITIES and the BIKE_SHARING_SYSTEMS tables to determine the total number of bikes avaialble in Seoul, plus the following city information about Seoul: CITY, COUNTRY, LAT, LON, POPULATION, in a single view.\n",
    "\n",
    "Notice that in this case, the CITY column will work for the WORLD_CITIES table, but in general you would have to use the CITY_ASCII column.\n"
   ]
  },
  {
   "cell_type": "markdown",
   "metadata": {},
   "source": [
    "### Solution 10\n"
   ]
  },
  {
   "cell_type": "code",
   "execution_count": 15,
   "metadata": {},
   "outputs": [
    {
     "data": {
      "text/html": [
       "<table>\n",
       "<caption>A data.frame: 404 × 6</caption>\n",
       "<thead>\n",
       "\t<tr><th></th><th scope=col>CITY_ASCII</th><th scope=col>COUNTRY</th><th scope=col>LAT</th><th scope=col>LNG</th><th scope=col>POPULATION</th><th scope=col>BICYCLES</th></tr>\n",
       "\t<tr><th></th><th scope=col>&lt;fct&gt;</th><th scope=col>&lt;fct&gt;</th><th scope=col>&lt;dbl&gt;</th><th scope=col>&lt;dbl&gt;</th><th scope=col>&lt;int&gt;</th><th scope=col>&lt;int&gt;</th></tr>\n",
       "</thead>\n",
       "<tbody>\n",
       "\t<tr><th scope=row>1</th><td>Mendoza       </td><td>Argentina    </td><td>-32.88</td><td> -68.83</td><td>  114822</td><td>   40</td></tr>\n",
       "\t<tr><th scope=row>2</th><td>Mumbai        </td><td>India        </td><td> 18.96</td><td>  72.83</td><td>23355000</td><td>   NA</td></tr>\n",
       "\t<tr><th scope=row>3</th><td>Shanghai      </td><td>China        </td><td> 31.16</td><td> 121.46</td><td>22120000</td><td>19165</td></tr>\n",
       "\t<tr><th scope=row>4</th><td>Seoul         </td><td>Korea, South </td><td> 37.58</td><td> 127.00</td><td>21794000</td><td>20000</td></tr>\n",
       "\t<tr><th scope=row>5</th><td>Mexico City   </td><td>Mexico       </td><td> 19.43</td><td> -99.13</td><td>20996000</td><td> 6500</td></tr>\n",
       "\t<tr><th scope=row>6</th><td>Guangzhou     </td><td>China        </td><td> 23.12</td><td> 113.25</td><td>20902000</td><td> 4840</td></tr>\n",
       "\t<tr><th scope=row>7</th><td>Beijing       </td><td>China        </td><td> 39.90</td><td> 116.39</td><td>19433000</td><td>16000</td></tr>\n",
       "\t<tr><th scope=row>8</th><td>Moscow        </td><td>Russia       </td><td> 55.75</td><td>  37.61</td><td>17125000</td><td> 4300</td></tr>\n",
       "\t<tr><th scope=row>9</th><td>Bangkok       </td><td>Thailand     </td><td> 13.75</td><td> 100.51</td><td>17066000</td><td>   NA</td></tr>\n",
       "\t<tr><th scope=row>10</th><td>Bangkok       </td><td>Thailand     </td><td> 13.75</td><td> 100.51</td><td>17066000</td><td>  500</td></tr>\n",
       "\t<tr><th scope=row>11</th><td>Bangkok       </td><td>Thailand     </td><td> 13.75</td><td> 100.51</td><td>17066000</td><td>  125</td></tr>\n",
       "\t<tr><th scope=row>12</th><td>Bangkok       </td><td>Thailand     </td><td> 13.75</td><td> 100.51</td><td>17066000</td><td>   NA</td></tr>\n",
       "\t<tr><th scope=row>13</th><td>Buenos Aires  </td><td>Argentina    </td><td>-34.59</td><td> -58.38</td><td>16157000</td><td> 4000</td></tr>\n",
       "\t<tr><th scope=row>14</th><td>Dhaka         </td><td>Bangladesh   </td><td> 23.71</td><td>  90.39</td><td>15443000</td><td>  300</td></tr>\n",
       "\t<tr><th scope=row>15</th><td>Tehran        </td><td>Iran         </td><td> 35.70</td><td>  51.41</td><td>13633000</td><td> 5700</td></tr>\n",
       "\t<tr><th scope=row>16</th><td>Los Angeles   </td><td>United States</td><td> 34.11</td><td>-118.40</td><td>12750807</td><td> 1000</td></tr>\n",
       "\t<tr><th scope=row>17</th><td>Rio de Janeiro</td><td>Brazil       </td><td>-22.90</td><td> -43.19</td><td>12272000</td><td>  300</td></tr>\n",
       "\t<tr><th scope=row>18</th><td>Paris         </td><td>France       </td><td> 48.85</td><td>   2.35</td><td>11020000</td><td>14500</td></tr>\n",
       "\t<tr><th scope=row>19</th><td>Weifang       </td><td>China        </td><td> 36.71</td><td> 119.10</td><td> 9373000</td><td>20000</td></tr>\n",
       "\t<tr><th scope=row>20</th><td>Heze          </td><td>China        </td><td> 35.23</td><td> 115.43</td><td> 8750000</td><td> 2000</td></tr>\n",
       "\t<tr><th scope=row>21</th><td>Ningbo        </td><td>China        </td><td> 29.87</td><td> 121.54</td><td> 7639000</td><td>15000</td></tr>\n",
       "\t<tr><th scope=row>22</th><td>Nantong       </td><td>China        </td><td> 31.98</td><td> 120.88</td><td> 7282835</td><td> 3800</td></tr>\n",
       "\t<tr><th scope=row>23</th><td>Foshan        </td><td>China        </td><td> 23.02</td><td> 113.10</td><td> 7194311</td><td>11694</td></tr>\n",
       "\t<tr><th scope=row>24</th><td>Nanning       </td><td>China        </td><td> 22.81</td><td> 108.31</td><td> 7153300</td><td> 1000</td></tr>\n",
       "\t<tr><th scope=row>25</th><td>Xi'an         </td><td>China        </td><td> 34.26</td><td> 108.90</td><td> 7135000</td><td>20000</td></tr>\n",
       "\t<tr><th scope=row>26</th><td>Santiago      </td><td>Chile        </td><td>-33.45</td><td> -70.66</td><td> 7007000</td><td>   NA</td></tr>\n",
       "\t<tr><th scope=row>27</th><td>Luoyang       </td><td>China        </td><td> 34.65</td><td> 112.42</td><td> 6549941</td><td> 1000</td></tr>\n",
       "\t<tr><th scope=row>28</th><td>Yantai        </td><td>China        </td><td> 37.39</td><td> 121.26</td><td> 6516900</td><td> 6000</td></tr>\n",
       "\t<tr><th scope=row>29</th><td>Hangzhou      </td><td>China        </td><td> 30.25</td><td> 120.16</td><td> 6446000</td><td>78000</td></tr>\n",
       "\t<tr><th scope=row>30</th><td>Suzhou        </td><td>China        </td><td> 33.63</td><td> 116.96</td><td> 5690000</td><td>22940</td></tr>\n",
       "\t<tr><th scope=row>⋮</th><td>⋮</td><td>⋮</td><td>⋮</td><td>⋮</td><td>⋮</td><td>⋮</td></tr>\n",
       "\t<tr><th scope=row>375</th><td>Milan   </td><td>United States </td><td>42.08</td><td> -83.68</td><td>7778</td><td>  350</td></tr>\n",
       "\t<tr><th scope=row>376</th><td>Milan   </td><td>United States </td><td>42.08</td><td> -83.68</td><td>7778</td><td> 4000</td></tr>\n",
       "\t<tr><th scope=row>377</th><td>Milan   </td><td>United States </td><td>42.08</td><td> -83.68</td><td>7778</td><td> 8000</td></tr>\n",
       "\t<tr><th scope=row>378</th><td>Berlin  </td><td>United States </td><td>39.79</td><td> -74.93</td><td>7536</td><td>   NA</td></tr>\n",
       "\t<tr><th scope=row>379</th><td>Berlin  </td><td>United States </td><td>39.79</td><td> -74.93</td><td>7536</td><td>  100</td></tr>\n",
       "\t<tr><th scope=row>380</th><td>Berlin  </td><td>United States </td><td>39.79</td><td> -74.93</td><td>7536</td><td>  500</td></tr>\n",
       "\t<tr><th scope=row>381</th><td>Berlin  </td><td>United States </td><td>39.79</td><td> -74.93</td><td>7536</td><td>   12</td></tr>\n",
       "\t<tr><th scope=row>382</th><td>Berlin  </td><td>United States </td><td>39.79</td><td> -74.93</td><td>7536</td><td>  700</td></tr>\n",
       "\t<tr><th scope=row>383</th><td>Berlin  </td><td>United States </td><td>39.79</td><td> -74.93</td><td>7536</td><td>  600</td></tr>\n",
       "\t<tr><th scope=row>384</th><td>Berlin  </td><td>United States </td><td>39.79</td><td> -74.93</td><td>7536</td><td>   NA</td></tr>\n",
       "\t<tr><th scope=row>385</th><td>Berlin  </td><td>United States </td><td>39.79</td><td> -74.93</td><td>7536</td><td>  300</td></tr>\n",
       "\t<tr><th scope=row>386</th><td>Berlin  </td><td>United States </td><td>39.79</td><td> -74.93</td><td>7536</td><td> 3500</td></tr>\n",
       "\t<tr><th scope=row>387</th><td>Florence</td><td>United States </td><td>38.38</td><td>-105.11</td><td>7433</td><td>   NA</td></tr>\n",
       "\t<tr><th scope=row>388</th><td>Victoria</td><td>Romania       </td><td>45.64</td><td>  24.70</td><td>7386</td><td>   NA</td></tr>\n",
       "\t<tr><th scope=row>389</th><td>Milan   </td><td>United States </td><td>35.91</td><td> -88.75</td><td>7201</td><td> 4650</td></tr>\n",
       "\t<tr><th scope=row>390</th><td>Milan   </td><td>United States </td><td>35.91</td><td> -88.75</td><td>7201</td><td>  350</td></tr>\n",
       "\t<tr><th scope=row>391</th><td>Milan   </td><td>United States </td><td>35.91</td><td> -88.75</td><td>7201</td><td> 4000</td></tr>\n",
       "\t<tr><th scope=row>392</th><td>Milan   </td><td>United States </td><td>35.91</td><td> -88.75</td><td>7201</td><td> 8000</td></tr>\n",
       "\t<tr><th scope=row>393</th><td>Hamilton</td><td>United States </td><td>46.25</td><td>-114.15</td><td>6964</td><td>  750</td></tr>\n",
       "\t<tr><th scope=row>394</th><td>Bern    </td><td>United States </td><td>40.40</td><td> -75.99</td><td>6952</td><td>   54</td></tr>\n",
       "\t<tr><th scope=row>395</th><td>Bremen  </td><td>United States </td><td>33.70</td><td> -85.14</td><td>6945</td><td>  500</td></tr>\n",
       "\t<tr><th scope=row>396</th><td>Hamilton</td><td>United States </td><td>34.13</td><td> -87.97</td><td>6606</td><td>  750</td></tr>\n",
       "\t<tr><th scope=row>397</th><td>Hamilton</td><td>United States </td><td>42.78</td><td> -75.49</td><td>6511</td><td>  750</td></tr>\n",
       "\t<tr><th scope=row>398</th><td>St. Paul</td><td>Canada        </td><td>53.99</td><td>-111.29</td><td>5827</td><td>   NA</td></tr>\n",
       "\t<tr><th scope=row>399</th><td>Atlanta </td><td>United States </td><td>33.11</td><td> -94.16</td><td>5526</td><td>  500</td></tr>\n",
       "\t<tr><th scope=row>400</th><td>Vienna  </td><td>United States </td><td>43.23</td><td> -75.77</td><td>5390</td><td> 1500</td></tr>\n",
       "\t<tr><th scope=row>401</th><td>Vienna  </td><td>United States </td><td>43.23</td><td> -75.77</td><td>5390</td><td> 1500</td></tr>\n",
       "\t<tr><th scope=row>402</th><td>Lisbon  </td><td>United States </td><td>40.77</td><td> -80.76</td><td>5372</td><td>  600</td></tr>\n",
       "\t<tr><th scope=row>403</th><td>Paris   </td><td>United States </td><td>44.24</td><td> -70.48</td><td>5131</td><td>14500</td></tr>\n",
       "\t<tr><th scope=row>404</th><td>Herne   </td><td>United Kingdom</td><td>51.34</td><td>   1.13</td><td>7325</td><td>   45</td></tr>\n",
       "</tbody>\n",
       "</table>\n"
      ],
      "text/latex": [
       "A data.frame: 404 × 6\n",
       "\\begin{tabular}{r|llllll}\n",
       "  & CITY\\_ASCII & COUNTRY & LAT & LNG & POPULATION & BICYCLES\\\\\n",
       "  & <fct> & <fct> & <dbl> & <dbl> & <int> & <int>\\\\\n",
       "\\hline\n",
       "\t1 & Mendoza        & Argentina     & -32.88 &  -68.83 &   114822 &    40\\\\\n",
       "\t2 & Mumbai         & India         &  18.96 &   72.83 & 23355000 &    NA\\\\\n",
       "\t3 & Shanghai       & China         &  31.16 &  121.46 & 22120000 & 19165\\\\\n",
       "\t4 & Seoul          & Korea, South  &  37.58 &  127.00 & 21794000 & 20000\\\\\n",
       "\t5 & Mexico City    & Mexico        &  19.43 &  -99.13 & 20996000 &  6500\\\\\n",
       "\t6 & Guangzhou      & China         &  23.12 &  113.25 & 20902000 &  4840\\\\\n",
       "\t7 & Beijing        & China         &  39.90 &  116.39 & 19433000 & 16000\\\\\n",
       "\t8 & Moscow         & Russia        &  55.75 &   37.61 & 17125000 &  4300\\\\\n",
       "\t9 & Bangkok        & Thailand      &  13.75 &  100.51 & 17066000 &    NA\\\\\n",
       "\t10 & Bangkok        & Thailand      &  13.75 &  100.51 & 17066000 &   500\\\\\n",
       "\t11 & Bangkok        & Thailand      &  13.75 &  100.51 & 17066000 &   125\\\\\n",
       "\t12 & Bangkok        & Thailand      &  13.75 &  100.51 & 17066000 &    NA\\\\\n",
       "\t13 & Buenos Aires   & Argentina     & -34.59 &  -58.38 & 16157000 &  4000\\\\\n",
       "\t14 & Dhaka          & Bangladesh    &  23.71 &   90.39 & 15443000 &   300\\\\\n",
       "\t15 & Tehran         & Iran          &  35.70 &   51.41 & 13633000 &  5700\\\\\n",
       "\t16 & Los Angeles    & United States &  34.11 & -118.40 & 12750807 &  1000\\\\\n",
       "\t17 & Rio de Janeiro & Brazil        & -22.90 &  -43.19 & 12272000 &   300\\\\\n",
       "\t18 & Paris          & France        &  48.85 &    2.35 & 11020000 & 14500\\\\\n",
       "\t19 & Weifang        & China         &  36.71 &  119.10 &  9373000 & 20000\\\\\n",
       "\t20 & Heze           & China         &  35.23 &  115.43 &  8750000 &  2000\\\\\n",
       "\t21 & Ningbo         & China         &  29.87 &  121.54 &  7639000 & 15000\\\\\n",
       "\t22 & Nantong        & China         &  31.98 &  120.88 &  7282835 &  3800\\\\\n",
       "\t23 & Foshan         & China         &  23.02 &  113.10 &  7194311 & 11694\\\\\n",
       "\t24 & Nanning        & China         &  22.81 &  108.31 &  7153300 &  1000\\\\\n",
       "\t25 & Xi'an          & China         &  34.26 &  108.90 &  7135000 & 20000\\\\\n",
       "\t26 & Santiago       & Chile         & -33.45 &  -70.66 &  7007000 &    NA\\\\\n",
       "\t27 & Luoyang        & China         &  34.65 &  112.42 &  6549941 &  1000\\\\\n",
       "\t28 & Yantai         & China         &  37.39 &  121.26 &  6516900 &  6000\\\\\n",
       "\t29 & Hangzhou       & China         &  30.25 &  120.16 &  6446000 & 78000\\\\\n",
       "\t30 & Suzhou         & China         &  33.63 &  116.96 &  5690000 & 22940\\\\\n",
       "\t⋮ & ⋮ & ⋮ & ⋮ & ⋮ & ⋮ & ⋮\\\\\n",
       "\t375 & Milan    & United States  & 42.08 &  -83.68 & 7778 &   350\\\\\n",
       "\t376 & Milan    & United States  & 42.08 &  -83.68 & 7778 &  4000\\\\\n",
       "\t377 & Milan    & United States  & 42.08 &  -83.68 & 7778 &  8000\\\\\n",
       "\t378 & Berlin   & United States  & 39.79 &  -74.93 & 7536 &    NA\\\\\n",
       "\t379 & Berlin   & United States  & 39.79 &  -74.93 & 7536 &   100\\\\\n",
       "\t380 & Berlin   & United States  & 39.79 &  -74.93 & 7536 &   500\\\\\n",
       "\t381 & Berlin   & United States  & 39.79 &  -74.93 & 7536 &    12\\\\\n",
       "\t382 & Berlin   & United States  & 39.79 &  -74.93 & 7536 &   700\\\\\n",
       "\t383 & Berlin   & United States  & 39.79 &  -74.93 & 7536 &   600\\\\\n",
       "\t384 & Berlin   & United States  & 39.79 &  -74.93 & 7536 &    NA\\\\\n",
       "\t385 & Berlin   & United States  & 39.79 &  -74.93 & 7536 &   300\\\\\n",
       "\t386 & Berlin   & United States  & 39.79 &  -74.93 & 7536 &  3500\\\\\n",
       "\t387 & Florence & United States  & 38.38 & -105.11 & 7433 &    NA\\\\\n",
       "\t388 & Victoria & Romania        & 45.64 &   24.70 & 7386 &    NA\\\\\n",
       "\t389 & Milan    & United States  & 35.91 &  -88.75 & 7201 &  4650\\\\\n",
       "\t390 & Milan    & United States  & 35.91 &  -88.75 & 7201 &   350\\\\\n",
       "\t391 & Milan    & United States  & 35.91 &  -88.75 & 7201 &  4000\\\\\n",
       "\t392 & Milan    & United States  & 35.91 &  -88.75 & 7201 &  8000\\\\\n",
       "\t393 & Hamilton & United States  & 46.25 & -114.15 & 6964 &   750\\\\\n",
       "\t394 & Bern     & United States  & 40.40 &  -75.99 & 6952 &    54\\\\\n",
       "\t395 & Bremen   & United States  & 33.70 &  -85.14 & 6945 &   500\\\\\n",
       "\t396 & Hamilton & United States  & 34.13 &  -87.97 & 6606 &   750\\\\\n",
       "\t397 & Hamilton & United States  & 42.78 &  -75.49 & 6511 &   750\\\\\n",
       "\t398 & St. Paul & Canada         & 53.99 & -111.29 & 5827 &    NA\\\\\n",
       "\t399 & Atlanta  & United States  & 33.11 &  -94.16 & 5526 &   500\\\\\n",
       "\t400 & Vienna   & United States  & 43.23 &  -75.77 & 5390 &  1500\\\\\n",
       "\t401 & Vienna   & United States  & 43.23 &  -75.77 & 5390 &  1500\\\\\n",
       "\t402 & Lisbon   & United States  & 40.77 &  -80.76 & 5372 &   600\\\\\n",
       "\t403 & Paris    & United States  & 44.24 &  -70.48 & 5131 & 14500\\\\\n",
       "\t404 & Herne    & United Kingdom & 51.34 &    1.13 & 7325 &    45\\\\\n",
       "\\end{tabular}\n"
      ],
      "text/markdown": [
       "\n",
       "A data.frame: 404 × 6\n",
       "\n",
       "| <!--/--> | CITY_ASCII &lt;fct&gt; | COUNTRY &lt;fct&gt; | LAT &lt;dbl&gt; | LNG &lt;dbl&gt; | POPULATION &lt;int&gt; | BICYCLES &lt;int&gt; |\n",
       "|---|---|---|---|---|---|---|\n",
       "| 1 | Mendoza        | Argentina     | -32.88 |  -68.83 |   114822 |    40 |\n",
       "| 2 | Mumbai         | India         |  18.96 |   72.83 | 23355000 |    NA |\n",
       "| 3 | Shanghai       | China         |  31.16 |  121.46 | 22120000 | 19165 |\n",
       "| 4 | Seoul          | Korea, South  |  37.58 |  127.00 | 21794000 | 20000 |\n",
       "| 5 | Mexico City    | Mexico        |  19.43 |  -99.13 | 20996000 |  6500 |\n",
       "| 6 | Guangzhou      | China         |  23.12 |  113.25 | 20902000 |  4840 |\n",
       "| 7 | Beijing        | China         |  39.90 |  116.39 | 19433000 | 16000 |\n",
       "| 8 | Moscow         | Russia        |  55.75 |   37.61 | 17125000 |  4300 |\n",
       "| 9 | Bangkok        | Thailand      |  13.75 |  100.51 | 17066000 |    NA |\n",
       "| 10 | Bangkok        | Thailand      |  13.75 |  100.51 | 17066000 |   500 |\n",
       "| 11 | Bangkok        | Thailand      |  13.75 |  100.51 | 17066000 |   125 |\n",
       "| 12 | Bangkok        | Thailand      |  13.75 |  100.51 | 17066000 |    NA |\n",
       "| 13 | Buenos Aires   | Argentina     | -34.59 |  -58.38 | 16157000 |  4000 |\n",
       "| 14 | Dhaka          | Bangladesh    |  23.71 |   90.39 | 15443000 |   300 |\n",
       "| 15 | Tehran         | Iran          |  35.70 |   51.41 | 13633000 |  5700 |\n",
       "| 16 | Los Angeles    | United States |  34.11 | -118.40 | 12750807 |  1000 |\n",
       "| 17 | Rio de Janeiro | Brazil        | -22.90 |  -43.19 | 12272000 |   300 |\n",
       "| 18 | Paris          | France        |  48.85 |    2.35 | 11020000 | 14500 |\n",
       "| 19 | Weifang        | China         |  36.71 |  119.10 |  9373000 | 20000 |\n",
       "| 20 | Heze           | China         |  35.23 |  115.43 |  8750000 |  2000 |\n",
       "| 21 | Ningbo         | China         |  29.87 |  121.54 |  7639000 | 15000 |\n",
       "| 22 | Nantong        | China         |  31.98 |  120.88 |  7282835 |  3800 |\n",
       "| 23 | Foshan         | China         |  23.02 |  113.10 |  7194311 | 11694 |\n",
       "| 24 | Nanning        | China         |  22.81 |  108.31 |  7153300 |  1000 |\n",
       "| 25 | Xi'an          | China         |  34.26 |  108.90 |  7135000 | 20000 |\n",
       "| 26 | Santiago       | Chile         | -33.45 |  -70.66 |  7007000 |    NA |\n",
       "| 27 | Luoyang        | China         |  34.65 |  112.42 |  6549941 |  1000 |\n",
       "| 28 | Yantai         | China         |  37.39 |  121.26 |  6516900 |  6000 |\n",
       "| 29 | Hangzhou       | China         |  30.25 |  120.16 |  6446000 | 78000 |\n",
       "| 30 | Suzhou         | China         |  33.63 |  116.96 |  5690000 | 22940 |\n",
       "| ⋮ | ⋮ | ⋮ | ⋮ | ⋮ | ⋮ | ⋮ |\n",
       "| 375 | Milan    | United States  | 42.08 |  -83.68 | 7778 |   350 |\n",
       "| 376 | Milan    | United States  | 42.08 |  -83.68 | 7778 |  4000 |\n",
       "| 377 | Milan    | United States  | 42.08 |  -83.68 | 7778 |  8000 |\n",
       "| 378 | Berlin   | United States  | 39.79 |  -74.93 | 7536 |    NA |\n",
       "| 379 | Berlin   | United States  | 39.79 |  -74.93 | 7536 |   100 |\n",
       "| 380 | Berlin   | United States  | 39.79 |  -74.93 | 7536 |   500 |\n",
       "| 381 | Berlin   | United States  | 39.79 |  -74.93 | 7536 |    12 |\n",
       "| 382 | Berlin   | United States  | 39.79 |  -74.93 | 7536 |   700 |\n",
       "| 383 | Berlin   | United States  | 39.79 |  -74.93 | 7536 |   600 |\n",
       "| 384 | Berlin   | United States  | 39.79 |  -74.93 | 7536 |    NA |\n",
       "| 385 | Berlin   | United States  | 39.79 |  -74.93 | 7536 |   300 |\n",
       "| 386 | Berlin   | United States  | 39.79 |  -74.93 | 7536 |  3500 |\n",
       "| 387 | Florence | United States  | 38.38 | -105.11 | 7433 |    NA |\n",
       "| 388 | Victoria | Romania        | 45.64 |   24.70 | 7386 |    NA |\n",
       "| 389 | Milan    | United States  | 35.91 |  -88.75 | 7201 |  4650 |\n",
       "| 390 | Milan    | United States  | 35.91 |  -88.75 | 7201 |   350 |\n",
       "| 391 | Milan    | United States  | 35.91 |  -88.75 | 7201 |  4000 |\n",
       "| 392 | Milan    | United States  | 35.91 |  -88.75 | 7201 |  8000 |\n",
       "| 393 | Hamilton | United States  | 46.25 | -114.15 | 6964 |   750 |\n",
       "| 394 | Bern     | United States  | 40.40 |  -75.99 | 6952 |    54 |\n",
       "| 395 | Bremen   | United States  | 33.70 |  -85.14 | 6945 |   500 |\n",
       "| 396 | Hamilton | United States  | 34.13 |  -87.97 | 6606 |   750 |\n",
       "| 397 | Hamilton | United States  | 42.78 |  -75.49 | 6511 |   750 |\n",
       "| 398 | St. Paul | Canada         | 53.99 | -111.29 | 5827 |    NA |\n",
       "| 399 | Atlanta  | United States  | 33.11 |  -94.16 | 5526 |   500 |\n",
       "| 400 | Vienna   | United States  | 43.23 |  -75.77 | 5390 |  1500 |\n",
       "| 401 | Vienna   | United States  | 43.23 |  -75.77 | 5390 |  1500 |\n",
       "| 402 | Lisbon   | United States  | 40.77 |  -80.76 | 5372 |   600 |\n",
       "| 403 | Paris    | United States  | 44.24 |  -70.48 | 5131 | 14500 |\n",
       "| 404 | Herne    | United Kingdom | 51.34 |    1.13 | 7325 |    45 |\n",
       "\n"
      ],
      "text/plain": [
       "    CITY_ASCII     COUNTRY        LAT    LNG     POPULATION BICYCLES\n",
       "1   Mendoza        Argentina      -32.88  -68.83   114822      40   \n",
       "2   Mumbai         India           18.96   72.83 23355000      NA   \n",
       "3   Shanghai       China           31.16  121.46 22120000   19165   \n",
       "4   Seoul          Korea, South    37.58  127.00 21794000   20000   \n",
       "5   Mexico City    Mexico          19.43  -99.13 20996000    6500   \n",
       "6   Guangzhou      China           23.12  113.25 20902000    4840   \n",
       "7   Beijing        China           39.90  116.39 19433000   16000   \n",
       "8   Moscow         Russia          55.75   37.61 17125000    4300   \n",
       "9   Bangkok        Thailand        13.75  100.51 17066000      NA   \n",
       "10  Bangkok        Thailand        13.75  100.51 17066000     500   \n",
       "11  Bangkok        Thailand        13.75  100.51 17066000     125   \n",
       "12  Bangkok        Thailand        13.75  100.51 17066000      NA   \n",
       "13  Buenos Aires   Argentina      -34.59  -58.38 16157000    4000   \n",
       "14  Dhaka          Bangladesh      23.71   90.39 15443000     300   \n",
       "15  Tehran         Iran            35.70   51.41 13633000    5700   \n",
       "16  Los Angeles    United States   34.11 -118.40 12750807    1000   \n",
       "17  Rio de Janeiro Brazil         -22.90  -43.19 12272000     300   \n",
       "18  Paris          France          48.85    2.35 11020000   14500   \n",
       "19  Weifang        China           36.71  119.10  9373000   20000   \n",
       "20  Heze           China           35.23  115.43  8750000    2000   \n",
       "21  Ningbo         China           29.87  121.54  7639000   15000   \n",
       "22  Nantong        China           31.98  120.88  7282835    3800   \n",
       "23  Foshan         China           23.02  113.10  7194311   11694   \n",
       "24  Nanning        China           22.81  108.31  7153300    1000   \n",
       "25  Xi'an          China           34.26  108.90  7135000   20000   \n",
       "26  Santiago       Chile          -33.45  -70.66  7007000      NA   \n",
       "27  Luoyang        China           34.65  112.42  6549941    1000   \n",
       "28  Yantai         China           37.39  121.26  6516900    6000   \n",
       "29  Hangzhou       China           30.25  120.16  6446000   78000   \n",
       "30  Suzhou         China           33.63  116.96  5690000   22940   \n",
       "⋮   ⋮              ⋮              ⋮      ⋮       ⋮          ⋮       \n",
       "375 Milan          United States  42.08   -83.68 7778         350   \n",
       "376 Milan          United States  42.08   -83.68 7778        4000   \n",
       "377 Milan          United States  42.08   -83.68 7778        8000   \n",
       "378 Berlin         United States  39.79   -74.93 7536          NA   \n",
       "379 Berlin         United States  39.79   -74.93 7536         100   \n",
       "380 Berlin         United States  39.79   -74.93 7536         500   \n",
       "381 Berlin         United States  39.79   -74.93 7536          12   \n",
       "382 Berlin         United States  39.79   -74.93 7536         700   \n",
       "383 Berlin         United States  39.79   -74.93 7536         600   \n",
       "384 Berlin         United States  39.79   -74.93 7536          NA   \n",
       "385 Berlin         United States  39.79   -74.93 7536         300   \n",
       "386 Berlin         United States  39.79   -74.93 7536        3500   \n",
       "387 Florence       United States  38.38  -105.11 7433          NA   \n",
       "388 Victoria       Romania        45.64    24.70 7386          NA   \n",
       "389 Milan          United States  35.91   -88.75 7201        4650   \n",
       "390 Milan          United States  35.91   -88.75 7201         350   \n",
       "391 Milan          United States  35.91   -88.75 7201        4000   \n",
       "392 Milan          United States  35.91   -88.75 7201        8000   \n",
       "393 Hamilton       United States  46.25  -114.15 6964         750   \n",
       "394 Bern           United States  40.40   -75.99 6952          54   \n",
       "395 Bremen         United States  33.70   -85.14 6945         500   \n",
       "396 Hamilton       United States  34.13   -87.97 6606         750   \n",
       "397 Hamilton       United States  42.78   -75.49 6511         750   \n",
       "398 St. Paul       Canada         53.99  -111.29 5827          NA   \n",
       "399 Atlanta        United States  33.11   -94.16 5526         500   \n",
       "400 Vienna         United States  43.23   -75.77 5390        1500   \n",
       "401 Vienna         United States  43.23   -75.77 5390        1500   \n",
       "402 Lisbon         United States  40.77   -80.76 5372         600   \n",
       "403 Paris          United States  44.24   -70.48 5131       14500   \n",
       "404 Herne          United Kingdom 51.34     1.13 7325          45   "
      ]
     },
     "metadata": {},
     "output_type": "display_data"
    }
   ],
   "source": [
    "# provide your solution here\n",
    "query10 <- paste(\"SELECT WC.CITY_ASCII, WC.COUNTRY, WC.LAT, WC.LNG, WC.POPULATION, BSS.BICYCLES FROM WORLD_CITIES AS WC, BIKE_SHARING_SYSTEMS AS BSS\n",
    "                WHERE WC.CITY_ASCII = BSS.CITY\")\n",
    "total_bike_city_info <- sqlQuery(conn, query10)\n",
    "total_bike_city_info"
   ]
  },
  {
   "cell_type": "markdown",
   "metadata": {},
   "source": [
    "## Task 11 - Find all city names and coordinates with comparable bike scale to Seoul's bike sharing system\n",
    "\n",
    "#### Find all cities with total bike counts between 15000 and 20000. Return the city and country names, plus the coordinates (LAT, LNG), population, and number of bicycles for each city.\n",
    "\n",
    "Later we will ask you to visualize these similar cities on leaflet, with some weather data.\n"
   ]
  },
  {
   "cell_type": "markdown",
   "metadata": {},
   "source": [
    "### Solution 11\n"
   ]
  },
  {
   "cell_type": "code",
   "execution_count": 35,
   "metadata": {},
   "outputs": [
    {
     "data": {
      "text/html": [
       "<table>\n",
       "<caption>A data.frame: 79708 × 6</caption>\n",
       "<thead>\n",
       "\t<tr><th></th><th scope=col>CITY_ASCII</th><th scope=col>COUNTRY</th><th scope=col>LAT</th><th scope=col>LNG</th><th scope=col>POPULATION</th><th scope=col>BICYCLES</th></tr>\n",
       "\t<tr><th></th><th scope=col>&lt;fct&gt;</th><th scope=col>&lt;fct&gt;</th><th scope=col>&lt;dbl&gt;</th><th scope=col>&lt;dbl&gt;</th><th scope=col>&lt;int&gt;</th><th scope=col>&lt;int&gt;</th></tr>\n",
       "</thead>\n",
       "<tbody>\n",
       "\t<tr><th scope=row>1</th><td>Tokyo           </td><td>Japan           </td><td> 35.68</td><td> 139.69</td><td>37977000</td><td>16000</td></tr>\n",
       "\t<tr><th scope=row>2</th><td>Jakarta         </td><td>Indonesia       </td><td> -6.21</td><td> 106.84</td><td>34540000</td><td>16000</td></tr>\n",
       "\t<tr><th scope=row>3</th><td>Delhi           </td><td>India           </td><td> 28.66</td><td>  77.23</td><td>29617000</td><td>16000</td></tr>\n",
       "\t<tr><th scope=row>4</th><td>Mumbai          </td><td>India           </td><td> 18.96</td><td>  72.83</td><td>23355000</td><td>16000</td></tr>\n",
       "\t<tr><th scope=row>5</th><td>Manila          </td><td>Philippines     </td><td> 14.59</td><td> 120.97</td><td>23088000</td><td>16000</td></tr>\n",
       "\t<tr><th scope=row>6</th><td>Shanghai        </td><td>China           </td><td> 31.16</td><td> 121.46</td><td>22120000</td><td>16000</td></tr>\n",
       "\t<tr><th scope=row>7</th><td>Sao Paulo       </td><td>Brazil          </td><td>-23.55</td><td> -46.63</td><td>22046000</td><td>16000</td></tr>\n",
       "\t<tr><th scope=row>8</th><td>Seoul           </td><td>Korea, South    </td><td> 37.58</td><td> 127.00</td><td>21794000</td><td>16000</td></tr>\n",
       "\t<tr><th scope=row>9</th><td>Mexico City     </td><td>Mexico          </td><td> 19.43</td><td> -99.13</td><td>20996000</td><td>16000</td></tr>\n",
       "\t<tr><th scope=row>10</th><td>Guangzhou       </td><td>China           </td><td> 23.12</td><td> 113.25</td><td>20902000</td><td>16000</td></tr>\n",
       "\t<tr><th scope=row>11</th><td>Beijing         </td><td>China           </td><td> 39.90</td><td> 116.39</td><td>19433000</td><td>16000</td></tr>\n",
       "\t<tr><th scope=row>12</th><td>Cairo           </td><td>Egypt           </td><td> 30.05</td><td>  31.23</td><td>19372000</td><td>16000</td></tr>\n",
       "\t<tr><th scope=row>13</th><td>New York        </td><td>United States   </td><td> 40.69</td><td> -73.92</td><td>18713220</td><td>16000</td></tr>\n",
       "\t<tr><th scope=row>14</th><td>Kolkata         </td><td>India           </td><td> 22.54</td><td>  88.33</td><td>17560000</td><td>16000</td></tr>\n",
       "\t<tr><th scope=row>15</th><td>Moscow          </td><td>Russia          </td><td> 55.75</td><td>  37.61</td><td>17125000</td><td>16000</td></tr>\n",
       "\t<tr><th scope=row>16</th><td>Bangkok         </td><td>Thailand        </td><td> 13.75</td><td> 100.51</td><td>17066000</td><td>16000</td></tr>\n",
       "\t<tr><th scope=row>17</th><td>Buenos Aires    </td><td>Argentina       </td><td>-34.59</td><td> -58.38</td><td>16157000</td><td>16000</td></tr>\n",
       "\t<tr><th scope=row>18</th><td>Shenzhen        </td><td>China           </td><td> 22.53</td><td> 114.05</td><td>15929000</td><td>16000</td></tr>\n",
       "\t<tr><th scope=row>19</th><td>Dhaka           </td><td>Bangladesh      </td><td> 23.71</td><td>  90.39</td><td>15443000</td><td>16000</td></tr>\n",
       "\t<tr><th scope=row>20</th><td>Lagos           </td><td>Nigeria         </td><td>  6.45</td><td>   3.40</td><td>15279000</td><td>16000</td></tr>\n",
       "\t<tr><th scope=row>21</th><td>Istanbul        </td><td>Turkey          </td><td> 41.01</td><td>  28.96</td><td>15154000</td><td>16000</td></tr>\n",
       "\t<tr><th scope=row>22</th><td>Osaka           </td><td>Japan           </td><td> 34.69</td><td> 135.50</td><td>14977000</td><td>16000</td></tr>\n",
       "\t<tr><th scope=row>23</th><td>Karachi         </td><td>Pakistan        </td><td> 24.86</td><td>  67.01</td><td>14835000</td><td>16000</td></tr>\n",
       "\t<tr><th scope=row>24</th><td>Bangalore       </td><td>India           </td><td> 12.96</td><td>  77.59</td><td>13707000</td><td>16000</td></tr>\n",
       "\t<tr><th scope=row>25</th><td>Tehran          </td><td>Iran            </td><td> 35.70</td><td>  51.41</td><td>13633000</td><td>16000</td></tr>\n",
       "\t<tr><th scope=row>26</th><td>Kinshasa        </td><td>Congo (Kinshasa)</td><td> -4.33</td><td>  15.31</td><td>13528000</td><td>16000</td></tr>\n",
       "\t<tr><th scope=row>27</th><td>Ho Chi Minh City</td><td>Vietnam         </td><td> 10.81</td><td> 106.63</td><td>13312000</td><td>16000</td></tr>\n",
       "\t<tr><th scope=row>28</th><td>Los Angeles     </td><td>United States   </td><td> 34.11</td><td>-118.40</td><td>12750807</td><td>16000</td></tr>\n",
       "\t<tr><th scope=row>29</th><td>Rio de Janeiro  </td><td>Brazil          </td><td>-22.90</td><td> -43.19</td><td>12272000</td><td>16000</td></tr>\n",
       "\t<tr><th scope=row>30</th><td>Nanyang         </td><td>China           </td><td> 32.99</td><td> 112.52</td><td>12010000</td><td>16000</td></tr>\n",
       "\t<tr><th scope=row>⋮</th><td>⋮</td><td>⋮</td><td>⋮</td><td>⋮</td><td>⋮</td><td>⋮</td></tr>\n",
       "\t<tr><th scope=row>79679</th><td>Omchak               </td><td>Russia   </td><td>61.63</td><td> 147.91</td><td>10</td><td>18000</td></tr>\n",
       "\t<tr><th scope=row>79680</th><td>Shalaurova           </td><td>Russia   </td><td>73.22</td><td> 143.18</td><td>10</td><td>18000</td></tr>\n",
       "\t<tr><th scope=row>79681</th><td>Khorgo               </td><td>Russia   </td><td>73.48</td><td> 113.63</td><td>10</td><td>18000</td></tr>\n",
       "\t<tr><th scope=row>79682</th><td>Komsa                </td><td>Russia   </td><td>61.86</td><td>  89.25</td><td>10</td><td>18000</td></tr>\n",
       "\t<tr><th scope=row>79683</th><td>Pakhachi             </td><td>Russia   </td><td>60.58</td><td> 169.05</td><td>10</td><td>18000</td></tr>\n",
       "\t<tr><th scope=row>79684</th><td>Indiga               </td><td>Russia   </td><td>67.68</td><td>  49.01</td><td>10</td><td>18000</td></tr>\n",
       "\t<tr><th scope=row>79685</th><td>Sagastyr             </td><td>Russia   </td><td>73.37</td><td> 126.59</td><td>10</td><td>18000</td></tr>\n",
       "\t<tr><th scope=row>79686</th><td>Chagda               </td><td>Russia   </td><td>60.10</td><td> 133.90</td><td>10</td><td>18000</td></tr>\n",
       "\t<tr><th scope=row>79687</th><td>Il'pyrskiy           </td><td>Russia   </td><td>59.96</td><td> 164.17</td><td>10</td><td>18000</td></tr>\n",
       "\t<tr><th scope=row>79688</th><td>Tunguskhaya          </td><td>Russia   </td><td>64.90</td><td> 125.25</td><td>10</td><td>18000</td></tr>\n",
       "\t<tr><th scope=row>79689</th><td>Podkamennaya Tunguska</td><td>Russia   </td><td>61.59</td><td>  90.12</td><td>10</td><td>18000</td></tr>\n",
       "\t<tr><th scope=row>79690</th><td>Siglan               </td><td>Russia   </td><td>59.03</td><td> 152.41</td><td>10</td><td>18000</td></tr>\n",
       "\t<tr><th scope=row>79691</th><td>Utkholok             </td><td>Russia   </td><td>57.55</td><td> 157.23</td><td>10</td><td>18000</td></tr>\n",
       "\t<tr><th scope=row>79692</th><td>Varnek               </td><td>Russia   </td><td>69.73</td><td>  60.06</td><td>10</td><td>18000</td></tr>\n",
       "\t<tr><th scope=row>79693</th><td>Trofimovsk           </td><td>Russia   </td><td>72.59</td><td> 127.03</td><td>10</td><td>18000</td></tr>\n",
       "\t<tr><th scope=row>79694</th><td>Matochkin Shar       </td><td>Russia   </td><td>73.27</td><td>  56.44</td><td>10</td><td>18000</td></tr>\n",
       "\t<tr><th scope=row>79695</th><td>Menkerya             </td><td>Russia   </td><td>67.98</td><td> 123.35</td><td>10</td><td>18000</td></tr>\n",
       "\t<tr><th scope=row>79696</th><td>Khakhar              </td><td>Russia   </td><td>57.66</td><td> 135.43</td><td>10</td><td>18000</td></tr>\n",
       "\t<tr><th scope=row>79697</th><td>Zvezdnyy             </td><td>Russia   </td><td>70.95</td><td>-179.59</td><td>10</td><td>18000</td></tr>\n",
       "\t<tr><th scope=row>79698</th><td>Zemlya Bunge         </td><td>Russia   </td><td>74.89</td><td> 142.10</td><td>10</td><td>18000</td></tr>\n",
       "\t<tr><th scope=row>79699</th><td>Starorybnoye         </td><td>Russia   </td><td>72.76</td><td> 104.80</td><td>10</td><td>18000</td></tr>\n",
       "\t<tr><th scope=row>79700</th><td>Agapa                </td><td>Russia   </td><td>71.45</td><td>  89.25</td><td>10</td><td>18000</td></tr>\n",
       "\t<tr><th scope=row>79701</th><td>Tukchi               </td><td>Russia   </td><td>57.36</td><td> 139.50</td><td>10</td><td>18000</td></tr>\n",
       "\t<tr><th scope=row>79702</th><td>Numto                </td><td>Russia   </td><td>63.66</td><td>  71.33</td><td>10</td><td>18000</td></tr>\n",
       "\t<tr><th scope=row>79703</th><td>Olenek               </td><td>Russia   </td><td>68.52</td><td> 112.45</td><td>10</td><td>18000</td></tr>\n",
       "\t<tr><th scope=row>79704</th><td>Nord                 </td><td>Greenland</td><td>81.71</td><td> -17.80</td><td>10</td><td>18000</td></tr>\n",
       "\t<tr><th scope=row>79705</th><td>Timmiarmiut          </td><td>Greenland</td><td>62.53</td><td> -42.21</td><td>10</td><td>18000</td></tr>\n",
       "\t<tr><th scope=row>79706</th><td>Cheremoshna          </td><td>Ukraine  </td><td>51.38</td><td>  30.09</td><td> 0</td><td>18000</td></tr>\n",
       "\t<tr><th scope=row>79707</th><td>Ambarchik            </td><td>Russia   </td><td>69.65</td><td> 162.33</td><td> 0</td><td>18000</td></tr>\n",
       "\t<tr><th scope=row>79708</th><td>Nordvik              </td><td>Russia   </td><td>74.01</td><td> 111.51</td><td> 0</td><td>18000</td></tr>\n",
       "</tbody>\n",
       "</table>\n"
      ],
      "text/latex": [
       "A data.frame: 79708 × 6\n",
       "\\begin{tabular}{r|llllll}\n",
       "  & CITY\\_ASCII & COUNTRY & LAT & LNG & POPULATION & BICYCLES\\\\\n",
       "  & <fct> & <fct> & <dbl> & <dbl> & <int> & <int>\\\\\n",
       "\\hline\n",
       "\t1 & Tokyo            & Japan            &  35.68 &  139.69 & 37977000 & 16000\\\\\n",
       "\t2 & Jakarta          & Indonesia        &  -6.21 &  106.84 & 34540000 & 16000\\\\\n",
       "\t3 & Delhi            & India            &  28.66 &   77.23 & 29617000 & 16000\\\\\n",
       "\t4 & Mumbai           & India            &  18.96 &   72.83 & 23355000 & 16000\\\\\n",
       "\t5 & Manila           & Philippines      &  14.59 &  120.97 & 23088000 & 16000\\\\\n",
       "\t6 & Shanghai         & China            &  31.16 &  121.46 & 22120000 & 16000\\\\\n",
       "\t7 & Sao Paulo        & Brazil           & -23.55 &  -46.63 & 22046000 & 16000\\\\\n",
       "\t8 & Seoul            & Korea, South     &  37.58 &  127.00 & 21794000 & 16000\\\\\n",
       "\t9 & Mexico City      & Mexico           &  19.43 &  -99.13 & 20996000 & 16000\\\\\n",
       "\t10 & Guangzhou        & China            &  23.12 &  113.25 & 20902000 & 16000\\\\\n",
       "\t11 & Beijing          & China            &  39.90 &  116.39 & 19433000 & 16000\\\\\n",
       "\t12 & Cairo            & Egypt            &  30.05 &   31.23 & 19372000 & 16000\\\\\n",
       "\t13 & New York         & United States    &  40.69 &  -73.92 & 18713220 & 16000\\\\\n",
       "\t14 & Kolkata          & India            &  22.54 &   88.33 & 17560000 & 16000\\\\\n",
       "\t15 & Moscow           & Russia           &  55.75 &   37.61 & 17125000 & 16000\\\\\n",
       "\t16 & Bangkok          & Thailand         &  13.75 &  100.51 & 17066000 & 16000\\\\\n",
       "\t17 & Buenos Aires     & Argentina        & -34.59 &  -58.38 & 16157000 & 16000\\\\\n",
       "\t18 & Shenzhen         & China            &  22.53 &  114.05 & 15929000 & 16000\\\\\n",
       "\t19 & Dhaka            & Bangladesh       &  23.71 &   90.39 & 15443000 & 16000\\\\\n",
       "\t20 & Lagos            & Nigeria          &   6.45 &    3.40 & 15279000 & 16000\\\\\n",
       "\t21 & Istanbul         & Turkey           &  41.01 &   28.96 & 15154000 & 16000\\\\\n",
       "\t22 & Osaka            & Japan            &  34.69 &  135.50 & 14977000 & 16000\\\\\n",
       "\t23 & Karachi          & Pakistan         &  24.86 &   67.01 & 14835000 & 16000\\\\\n",
       "\t24 & Bangalore        & India            &  12.96 &   77.59 & 13707000 & 16000\\\\\n",
       "\t25 & Tehran           & Iran             &  35.70 &   51.41 & 13633000 & 16000\\\\\n",
       "\t26 & Kinshasa         & Congo (Kinshasa) &  -4.33 &   15.31 & 13528000 & 16000\\\\\n",
       "\t27 & Ho Chi Minh City & Vietnam          &  10.81 &  106.63 & 13312000 & 16000\\\\\n",
       "\t28 & Los Angeles      & United States    &  34.11 & -118.40 & 12750807 & 16000\\\\\n",
       "\t29 & Rio de Janeiro   & Brazil           & -22.90 &  -43.19 & 12272000 & 16000\\\\\n",
       "\t30 & Nanyang          & China            &  32.99 &  112.52 & 12010000 & 16000\\\\\n",
       "\t⋮ & ⋮ & ⋮ & ⋮ & ⋮ & ⋮ & ⋮\\\\\n",
       "\t79679 & Omchak                & Russia    & 61.63 &  147.91 & 10 & 18000\\\\\n",
       "\t79680 & Shalaurova            & Russia    & 73.22 &  143.18 & 10 & 18000\\\\\n",
       "\t79681 & Khorgo                & Russia    & 73.48 &  113.63 & 10 & 18000\\\\\n",
       "\t79682 & Komsa                 & Russia    & 61.86 &   89.25 & 10 & 18000\\\\\n",
       "\t79683 & Pakhachi              & Russia    & 60.58 &  169.05 & 10 & 18000\\\\\n",
       "\t79684 & Indiga                & Russia    & 67.68 &   49.01 & 10 & 18000\\\\\n",
       "\t79685 & Sagastyr              & Russia    & 73.37 &  126.59 & 10 & 18000\\\\\n",
       "\t79686 & Chagda                & Russia    & 60.10 &  133.90 & 10 & 18000\\\\\n",
       "\t79687 & Il'pyrskiy            & Russia    & 59.96 &  164.17 & 10 & 18000\\\\\n",
       "\t79688 & Tunguskhaya           & Russia    & 64.90 &  125.25 & 10 & 18000\\\\\n",
       "\t79689 & Podkamennaya Tunguska & Russia    & 61.59 &   90.12 & 10 & 18000\\\\\n",
       "\t79690 & Siglan                & Russia    & 59.03 &  152.41 & 10 & 18000\\\\\n",
       "\t79691 & Utkholok              & Russia    & 57.55 &  157.23 & 10 & 18000\\\\\n",
       "\t79692 & Varnek                & Russia    & 69.73 &   60.06 & 10 & 18000\\\\\n",
       "\t79693 & Trofimovsk            & Russia    & 72.59 &  127.03 & 10 & 18000\\\\\n",
       "\t79694 & Matochkin Shar        & Russia    & 73.27 &   56.44 & 10 & 18000\\\\\n",
       "\t79695 & Menkerya              & Russia    & 67.98 &  123.35 & 10 & 18000\\\\\n",
       "\t79696 & Khakhar               & Russia    & 57.66 &  135.43 & 10 & 18000\\\\\n",
       "\t79697 & Zvezdnyy              & Russia    & 70.95 & -179.59 & 10 & 18000\\\\\n",
       "\t79698 & Zemlya Bunge          & Russia    & 74.89 &  142.10 & 10 & 18000\\\\\n",
       "\t79699 & Starorybnoye          & Russia    & 72.76 &  104.80 & 10 & 18000\\\\\n",
       "\t79700 & Agapa                 & Russia    & 71.45 &   89.25 & 10 & 18000\\\\\n",
       "\t79701 & Tukchi                & Russia    & 57.36 &  139.50 & 10 & 18000\\\\\n",
       "\t79702 & Numto                 & Russia    & 63.66 &   71.33 & 10 & 18000\\\\\n",
       "\t79703 & Olenek                & Russia    & 68.52 &  112.45 & 10 & 18000\\\\\n",
       "\t79704 & Nord                  & Greenland & 81.71 &  -17.80 & 10 & 18000\\\\\n",
       "\t79705 & Timmiarmiut           & Greenland & 62.53 &  -42.21 & 10 & 18000\\\\\n",
       "\t79706 & Cheremoshna           & Ukraine   & 51.38 &   30.09 &  0 & 18000\\\\\n",
       "\t79707 & Ambarchik             & Russia    & 69.65 &  162.33 &  0 & 18000\\\\\n",
       "\t79708 & Nordvik               & Russia    & 74.01 &  111.51 &  0 & 18000\\\\\n",
       "\\end{tabular}\n"
      ],
      "text/markdown": [
       "\n",
       "A data.frame: 79708 × 6\n",
       "\n",
       "| <!--/--> | CITY_ASCII &lt;fct&gt; | COUNTRY &lt;fct&gt; | LAT &lt;dbl&gt; | LNG &lt;dbl&gt; | POPULATION &lt;int&gt; | BICYCLES &lt;int&gt; |\n",
       "|---|---|---|---|---|---|---|\n",
       "| 1 | Tokyo            | Japan            |  35.68 |  139.69 | 37977000 | 16000 |\n",
       "| 2 | Jakarta          | Indonesia        |  -6.21 |  106.84 | 34540000 | 16000 |\n",
       "| 3 | Delhi            | India            |  28.66 |   77.23 | 29617000 | 16000 |\n",
       "| 4 | Mumbai           | India            |  18.96 |   72.83 | 23355000 | 16000 |\n",
       "| 5 | Manila           | Philippines      |  14.59 |  120.97 | 23088000 | 16000 |\n",
       "| 6 | Shanghai         | China            |  31.16 |  121.46 | 22120000 | 16000 |\n",
       "| 7 | Sao Paulo        | Brazil           | -23.55 |  -46.63 | 22046000 | 16000 |\n",
       "| 8 | Seoul            | Korea, South     |  37.58 |  127.00 | 21794000 | 16000 |\n",
       "| 9 | Mexico City      | Mexico           |  19.43 |  -99.13 | 20996000 | 16000 |\n",
       "| 10 | Guangzhou        | China            |  23.12 |  113.25 | 20902000 | 16000 |\n",
       "| 11 | Beijing          | China            |  39.90 |  116.39 | 19433000 | 16000 |\n",
       "| 12 | Cairo            | Egypt            |  30.05 |   31.23 | 19372000 | 16000 |\n",
       "| 13 | New York         | United States    |  40.69 |  -73.92 | 18713220 | 16000 |\n",
       "| 14 | Kolkata          | India            |  22.54 |   88.33 | 17560000 | 16000 |\n",
       "| 15 | Moscow           | Russia           |  55.75 |   37.61 | 17125000 | 16000 |\n",
       "| 16 | Bangkok          | Thailand         |  13.75 |  100.51 | 17066000 | 16000 |\n",
       "| 17 | Buenos Aires     | Argentina        | -34.59 |  -58.38 | 16157000 | 16000 |\n",
       "| 18 | Shenzhen         | China            |  22.53 |  114.05 | 15929000 | 16000 |\n",
       "| 19 | Dhaka            | Bangladesh       |  23.71 |   90.39 | 15443000 | 16000 |\n",
       "| 20 | Lagos            | Nigeria          |   6.45 |    3.40 | 15279000 | 16000 |\n",
       "| 21 | Istanbul         | Turkey           |  41.01 |   28.96 | 15154000 | 16000 |\n",
       "| 22 | Osaka            | Japan            |  34.69 |  135.50 | 14977000 | 16000 |\n",
       "| 23 | Karachi          | Pakistan         |  24.86 |   67.01 | 14835000 | 16000 |\n",
       "| 24 | Bangalore        | India            |  12.96 |   77.59 | 13707000 | 16000 |\n",
       "| 25 | Tehran           | Iran             |  35.70 |   51.41 | 13633000 | 16000 |\n",
       "| 26 | Kinshasa         | Congo (Kinshasa) |  -4.33 |   15.31 | 13528000 | 16000 |\n",
       "| 27 | Ho Chi Minh City | Vietnam          |  10.81 |  106.63 | 13312000 | 16000 |\n",
       "| 28 | Los Angeles      | United States    |  34.11 | -118.40 | 12750807 | 16000 |\n",
       "| 29 | Rio de Janeiro   | Brazil           | -22.90 |  -43.19 | 12272000 | 16000 |\n",
       "| 30 | Nanyang          | China            |  32.99 |  112.52 | 12010000 | 16000 |\n",
       "| ⋮ | ⋮ | ⋮ | ⋮ | ⋮ | ⋮ | ⋮ |\n",
       "| 79679 | Omchak                | Russia    | 61.63 |  147.91 | 10 | 18000 |\n",
       "| 79680 | Shalaurova            | Russia    | 73.22 |  143.18 | 10 | 18000 |\n",
       "| 79681 | Khorgo                | Russia    | 73.48 |  113.63 | 10 | 18000 |\n",
       "| 79682 | Komsa                 | Russia    | 61.86 |   89.25 | 10 | 18000 |\n",
       "| 79683 | Pakhachi              | Russia    | 60.58 |  169.05 | 10 | 18000 |\n",
       "| 79684 | Indiga                | Russia    | 67.68 |   49.01 | 10 | 18000 |\n",
       "| 79685 | Sagastyr              | Russia    | 73.37 |  126.59 | 10 | 18000 |\n",
       "| 79686 | Chagda                | Russia    | 60.10 |  133.90 | 10 | 18000 |\n",
       "| 79687 | Il'pyrskiy            | Russia    | 59.96 |  164.17 | 10 | 18000 |\n",
       "| 79688 | Tunguskhaya           | Russia    | 64.90 |  125.25 | 10 | 18000 |\n",
       "| 79689 | Podkamennaya Tunguska | Russia    | 61.59 |   90.12 | 10 | 18000 |\n",
       "| 79690 | Siglan                | Russia    | 59.03 |  152.41 | 10 | 18000 |\n",
       "| 79691 | Utkholok              | Russia    | 57.55 |  157.23 | 10 | 18000 |\n",
       "| 79692 | Varnek                | Russia    | 69.73 |   60.06 | 10 | 18000 |\n",
       "| 79693 | Trofimovsk            | Russia    | 72.59 |  127.03 | 10 | 18000 |\n",
       "| 79694 | Matochkin Shar        | Russia    | 73.27 |   56.44 | 10 | 18000 |\n",
       "| 79695 | Menkerya              | Russia    | 67.98 |  123.35 | 10 | 18000 |\n",
       "| 79696 | Khakhar               | Russia    | 57.66 |  135.43 | 10 | 18000 |\n",
       "| 79697 | Zvezdnyy              | Russia    | 70.95 | -179.59 | 10 | 18000 |\n",
       "| 79698 | Zemlya Bunge          | Russia    | 74.89 |  142.10 | 10 | 18000 |\n",
       "| 79699 | Starorybnoye          | Russia    | 72.76 |  104.80 | 10 | 18000 |\n",
       "| 79700 | Agapa                 | Russia    | 71.45 |   89.25 | 10 | 18000 |\n",
       "| 79701 | Tukchi                | Russia    | 57.36 |  139.50 | 10 | 18000 |\n",
       "| 79702 | Numto                 | Russia    | 63.66 |   71.33 | 10 | 18000 |\n",
       "| 79703 | Olenek                | Russia    | 68.52 |  112.45 | 10 | 18000 |\n",
       "| 79704 | Nord                  | Greenland | 81.71 |  -17.80 | 10 | 18000 |\n",
       "| 79705 | Timmiarmiut           | Greenland | 62.53 |  -42.21 | 10 | 18000 |\n",
       "| 79706 | Cheremoshna           | Ukraine   | 51.38 |   30.09 |  0 | 18000 |\n",
       "| 79707 | Ambarchik             | Russia    | 69.65 |  162.33 |  0 | 18000 |\n",
       "| 79708 | Nordvik               | Russia    | 74.01 |  111.51 |  0 | 18000 |\n",
       "\n"
      ],
      "text/plain": [
       "      CITY_ASCII            COUNTRY          LAT    LNG     POPULATION BICYCLES\n",
       "1     Tokyo                 Japan             35.68  139.69 37977000   16000   \n",
       "2     Jakarta               Indonesia         -6.21  106.84 34540000   16000   \n",
       "3     Delhi                 India             28.66   77.23 29617000   16000   \n",
       "4     Mumbai                India             18.96   72.83 23355000   16000   \n",
       "5     Manila                Philippines       14.59  120.97 23088000   16000   \n",
       "6     Shanghai              China             31.16  121.46 22120000   16000   \n",
       "7     Sao Paulo             Brazil           -23.55  -46.63 22046000   16000   \n",
       "8     Seoul                 Korea, South      37.58  127.00 21794000   16000   \n",
       "9     Mexico City           Mexico            19.43  -99.13 20996000   16000   \n",
       "10    Guangzhou             China             23.12  113.25 20902000   16000   \n",
       "11    Beijing               China             39.90  116.39 19433000   16000   \n",
       "12    Cairo                 Egypt             30.05   31.23 19372000   16000   \n",
       "13    New York              United States     40.69  -73.92 18713220   16000   \n",
       "14    Kolkata               India             22.54   88.33 17560000   16000   \n",
       "15    Moscow                Russia            55.75   37.61 17125000   16000   \n",
       "16    Bangkok               Thailand          13.75  100.51 17066000   16000   \n",
       "17    Buenos Aires          Argentina        -34.59  -58.38 16157000   16000   \n",
       "18    Shenzhen              China             22.53  114.05 15929000   16000   \n",
       "19    Dhaka                 Bangladesh        23.71   90.39 15443000   16000   \n",
       "20    Lagos                 Nigeria            6.45    3.40 15279000   16000   \n",
       "21    Istanbul              Turkey            41.01   28.96 15154000   16000   \n",
       "22    Osaka                 Japan             34.69  135.50 14977000   16000   \n",
       "23    Karachi               Pakistan          24.86   67.01 14835000   16000   \n",
       "24    Bangalore             India             12.96   77.59 13707000   16000   \n",
       "25    Tehran                Iran              35.70   51.41 13633000   16000   \n",
       "26    Kinshasa              Congo (Kinshasa)  -4.33   15.31 13528000   16000   \n",
       "27    Ho Chi Minh City      Vietnam           10.81  106.63 13312000   16000   \n",
       "28    Los Angeles           United States     34.11 -118.40 12750807   16000   \n",
       "29    Rio de Janeiro        Brazil           -22.90  -43.19 12272000   16000   \n",
       "30    Nanyang               China             32.99  112.52 12010000   16000   \n",
       "⋮     ⋮                     ⋮                ⋮      ⋮       ⋮          ⋮       \n",
       "79679 Omchak                Russia           61.63   147.91 10         18000   \n",
       "79680 Shalaurova            Russia           73.22   143.18 10         18000   \n",
       "79681 Khorgo                Russia           73.48   113.63 10         18000   \n",
       "79682 Komsa                 Russia           61.86    89.25 10         18000   \n",
       "79683 Pakhachi              Russia           60.58   169.05 10         18000   \n",
       "79684 Indiga                Russia           67.68    49.01 10         18000   \n",
       "79685 Sagastyr              Russia           73.37   126.59 10         18000   \n",
       "79686 Chagda                Russia           60.10   133.90 10         18000   \n",
       "79687 Il'pyrskiy            Russia           59.96   164.17 10         18000   \n",
       "79688 Tunguskhaya           Russia           64.90   125.25 10         18000   \n",
       "79689 Podkamennaya Tunguska Russia           61.59    90.12 10         18000   \n",
       "79690 Siglan                Russia           59.03   152.41 10         18000   \n",
       "79691 Utkholok              Russia           57.55   157.23 10         18000   \n",
       "79692 Varnek                Russia           69.73    60.06 10         18000   \n",
       "79693 Trofimovsk            Russia           72.59   127.03 10         18000   \n",
       "79694 Matochkin Shar        Russia           73.27    56.44 10         18000   \n",
       "79695 Menkerya              Russia           67.98   123.35 10         18000   \n",
       "79696 Khakhar               Russia           57.66   135.43 10         18000   \n",
       "79697 Zvezdnyy              Russia           70.95  -179.59 10         18000   \n",
       "79698 Zemlya Bunge          Russia           74.89   142.10 10         18000   \n",
       "79699 Starorybnoye          Russia           72.76   104.80 10         18000   \n",
       "79700 Agapa                 Russia           71.45    89.25 10         18000   \n",
       "79701 Tukchi                Russia           57.36   139.50 10         18000   \n",
       "79702 Numto                 Russia           63.66    71.33 10         18000   \n",
       "79703 Olenek                Russia           68.52   112.45 10         18000   \n",
       "79704 Nord                  Greenland        81.71   -17.80 10         18000   \n",
       "79705 Timmiarmiut           Greenland        62.53   -42.21 10         18000   \n",
       "79706 Cheremoshna           Ukraine          51.38    30.09  0         18000   \n",
       "79707 Ambarchik             Russia           69.65   162.33  0         18000   \n",
       "79708 Nordvik               Russia           74.01   111.51  0         18000   "
      ]
     },
     "metadata": {},
     "output_type": "display_data"
    }
   ],
   "source": [
    "# provide your solution here\n",
    "\n",
    "query11 <- paste(\"SELECT WC.CITY_ASCII, WC.COUNTRY, WC.LAT, WC.LNG, WC.POPULATION, BSS.BICYCLES FROM WORLD_CITIES AS WC, BIKE_SHARING_SYSTEMS AS BSS\n",
    "                WHERE BSS.CITY = WC.CITY_ASCII AND BSS.BICYCLES LIKE '15___' OR BSS.BICYCLES LIKE '16___' OR BSS.BICYCLES LIKE '17___' OR BSS.BICYCLES LIKE '18___' OR BSS.BICYCLES LIKE '19___'\")\n",
    "total_bike_15000_info <- sqlQuery(conn, query11)\n",
    "total_bike_15000_info"
   ]
  },
  {
   "cell_type": "code",
   "execution_count": null,
   "metadata": {},
   "outputs": [],
   "source": [
    "close(conn)"
   ]
  },
  {
   "cell_type": "markdown",
   "metadata": {},
   "source": [
    "## Author(s)\n",
    "\n",
    "<h4> Jeff Grossman </h4>\n",
    "\n",
    "## Contributor(s)\n",
    "\n",
    "<h4> Yan Luo, Rav Ahuja </h4>\n",
    "\n",
    "## Change log\n",
    "\n",
    "| Date       | Version | Changed by    | Change Description                  |\n",
    "| ---------- | ------- | ------------- | ----------------------------------- |\n",
    "| 2021-05-04 | 0.2     | Jeff Grossman | Finalize                            |\n",
    "| 2021-04-22 | 0.2     | Jeff Grossman | Update as per peer review           |\n",
    "| 2021-04-10 | 0.2     | Jeff Grossman | Add data sources and implicit joins |\n",
    "| 2021-04-05 | 0.1     | Jeff Grossman | Start content creation              |\n",
    "\n",
    "## <h3 align=\"center\"> © IBM Corporation 2021. All rights reserved. <h3/>\n"
   ]
  },
  {
   "cell_type": "code",
   "execution_count": null,
   "metadata": {},
   "outputs": [],
   "source": []
  }
 ],
 "metadata": {
  "kernelspec": {
   "display_name": "R",
   "language": "R",
   "name": "conda-env-r-r"
  },
  "language_info": {
   "codemirror_mode": "r",
   "file_extension": ".r",
   "mimetype": "text/x-r-source",
   "name": "R",
   "pygments_lexer": "r",
   "version": "3.5.1"
  },
  "widgets": {
   "state": {},
   "version": "1.1.2"
  }
 },
 "nbformat": 4,
 "nbformat_minor": 4
}
